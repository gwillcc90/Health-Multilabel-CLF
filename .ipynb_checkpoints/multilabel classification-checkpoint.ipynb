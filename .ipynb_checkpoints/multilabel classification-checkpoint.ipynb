{
 "cells": [
  {
   "cell_type": "markdown",
   "id": "017b3dec",
   "metadata": {},
   "source": [
    "# Multilabel Classification on a Diabetes Dataset\n",
    "\n",
    "Goal statement: I use the diabetes_data.csv dataset from Kaggle.com [1] to perform multilabel classification by predicting whether the patient has diabetes, stroke, and high blood pressure using Keras's Functional API. This is a multilabel, binary classification problem."
   ]
  },
  {
   "cell_type": "code",
   "execution_count": 1,
   "id": "e0831b64",
   "metadata": {},
   "outputs": [],
   "source": [
    "# Libraries and imports\n",
    "import pandas as pd\n",
    "import tensorflow as tf\n",
    "from sklearn.model_selection import train_test_split\n",
    "from tensorflow import keras\n",
    "import numpy as np\n",
    "import matplotlib.pyplot as plt\n",
    "from sklearn.metrics import multilabel_confusion_matrix"
   ]
  },
  {
   "cell_type": "code",
   "execution_count": 4,
   "id": "ded4a14a",
   "metadata": {},
   "outputs": [],
   "source": [
    "# model with unedited dataset\n",
    "raw_ANN = keras.models.load_model('multilabel_clf_unengineered.h5')\n",
    "# model with BMI categorized and One-Hot encoded\n",
    "ANN_BMI_cats = keras.models.load_model('ANN_with_BMI_cats.h5')"
   ]
  },
  {
   "cell_type": "code",
   "execution_count": 5,
   "id": "affcce16",
   "metadata": {},
   "outputs": [
    {
     "data": {
      "text/html": [
       "<div>\n",
       "<style scoped>\n",
       "    .dataframe tbody tr th:only-of-type {\n",
       "        vertical-align: middle;\n",
       "    }\n",
       "\n",
       "    .dataframe tbody tr th {\n",
       "        vertical-align: top;\n",
       "    }\n",
       "\n",
       "    .dataframe thead th {\n",
       "        text-align: right;\n",
       "    }\n",
       "</style>\n",
       "<table border=\"1\" class=\"dataframe\">\n",
       "  <thead>\n",
       "    <tr style=\"text-align: right;\">\n",
       "      <th></th>\n",
       "      <th>Age</th>\n",
       "      <th>Sex</th>\n",
       "      <th>HighChol</th>\n",
       "      <th>CholCheck</th>\n",
       "      <th>BMI</th>\n",
       "      <th>Smoker</th>\n",
       "      <th>HeartDiseaseorAttack</th>\n",
       "      <th>PhysActivity</th>\n",
       "      <th>Fruits</th>\n",
       "      <th>Veggies</th>\n",
       "      <th>HvyAlcoholConsump</th>\n",
       "      <th>GenHlth</th>\n",
       "      <th>MentHlth</th>\n",
       "      <th>PhysHlth</th>\n",
       "      <th>DiffWalk</th>\n",
       "      <th>Stroke</th>\n",
       "      <th>HighBP</th>\n",
       "      <th>Diabetes</th>\n",
       "    </tr>\n",
       "  </thead>\n",
       "  <tbody>\n",
       "    <tr>\n",
       "      <th>0</th>\n",
       "      <td>4.0</td>\n",
       "      <td>1.0</td>\n",
       "      <td>0.0</td>\n",
       "      <td>1.0</td>\n",
       "      <td>26.0</td>\n",
       "      <td>0.0</td>\n",
       "      <td>0.0</td>\n",
       "      <td>1.0</td>\n",
       "      <td>0.0</td>\n",
       "      <td>1.0</td>\n",
       "      <td>0.0</td>\n",
       "      <td>3.0</td>\n",
       "      <td>5.0</td>\n",
       "      <td>30.0</td>\n",
       "      <td>0.0</td>\n",
       "      <td>0.0</td>\n",
       "      <td>1.0</td>\n",
       "      <td>0.0</td>\n",
       "    </tr>\n",
       "    <tr>\n",
       "      <th>1</th>\n",
       "      <td>12.0</td>\n",
       "      <td>1.0</td>\n",
       "      <td>1.0</td>\n",
       "      <td>1.0</td>\n",
       "      <td>26.0</td>\n",
       "      <td>1.0</td>\n",
       "      <td>0.0</td>\n",
       "      <td>0.0</td>\n",
       "      <td>1.0</td>\n",
       "      <td>0.0</td>\n",
       "      <td>0.0</td>\n",
       "      <td>3.0</td>\n",
       "      <td>0.0</td>\n",
       "      <td>0.0</td>\n",
       "      <td>0.0</td>\n",
       "      <td>1.0</td>\n",
       "      <td>1.0</td>\n",
       "      <td>0.0</td>\n",
       "    </tr>\n",
       "    <tr>\n",
       "      <th>2</th>\n",
       "      <td>13.0</td>\n",
       "      <td>1.0</td>\n",
       "      <td>0.0</td>\n",
       "      <td>1.0</td>\n",
       "      <td>26.0</td>\n",
       "      <td>0.0</td>\n",
       "      <td>0.0</td>\n",
       "      <td>1.0</td>\n",
       "      <td>1.0</td>\n",
       "      <td>1.0</td>\n",
       "      <td>0.0</td>\n",
       "      <td>1.0</td>\n",
       "      <td>0.0</td>\n",
       "      <td>10.0</td>\n",
       "      <td>0.0</td>\n",
       "      <td>0.0</td>\n",
       "      <td>0.0</td>\n",
       "      <td>0.0</td>\n",
       "    </tr>\n",
       "    <tr>\n",
       "      <th>3</th>\n",
       "      <td>11.0</td>\n",
       "      <td>1.0</td>\n",
       "      <td>1.0</td>\n",
       "      <td>1.0</td>\n",
       "      <td>28.0</td>\n",
       "      <td>1.0</td>\n",
       "      <td>0.0</td>\n",
       "      <td>1.0</td>\n",
       "      <td>1.0</td>\n",
       "      <td>1.0</td>\n",
       "      <td>0.0</td>\n",
       "      <td>3.0</td>\n",
       "      <td>0.0</td>\n",
       "      <td>3.0</td>\n",
       "      <td>0.0</td>\n",
       "      <td>0.0</td>\n",
       "      <td>1.0</td>\n",
       "      <td>0.0</td>\n",
       "    </tr>\n",
       "    <tr>\n",
       "      <th>4</th>\n",
       "      <td>8.0</td>\n",
       "      <td>0.0</td>\n",
       "      <td>0.0</td>\n",
       "      <td>1.0</td>\n",
       "      <td>29.0</td>\n",
       "      <td>1.0</td>\n",
       "      <td>0.0</td>\n",
       "      <td>1.0</td>\n",
       "      <td>1.0</td>\n",
       "      <td>1.0</td>\n",
       "      <td>0.0</td>\n",
       "      <td>2.0</td>\n",
       "      <td>0.0</td>\n",
       "      <td>0.0</td>\n",
       "      <td>0.0</td>\n",
       "      <td>0.0</td>\n",
       "      <td>0.0</td>\n",
       "      <td>0.0</td>\n",
       "    </tr>\n",
       "  </tbody>\n",
       "</table>\n",
       "</div>"
      ],
      "text/plain": [
       "    Age  Sex  HighChol  CholCheck   BMI  Smoker  HeartDiseaseorAttack  \\\n",
       "0   4.0  1.0       0.0        1.0  26.0     0.0                   0.0   \n",
       "1  12.0  1.0       1.0        1.0  26.0     1.0                   0.0   \n",
       "2  13.0  1.0       0.0        1.0  26.0     0.0                   0.0   \n",
       "3  11.0  1.0       1.0        1.0  28.0     1.0                   0.0   \n",
       "4   8.0  0.0       0.0        1.0  29.0     1.0                   0.0   \n",
       "\n",
       "   PhysActivity  Fruits  Veggies  HvyAlcoholConsump  GenHlth  MentHlth  \\\n",
       "0           1.0     0.0      1.0                0.0      3.0       5.0   \n",
       "1           0.0     1.0      0.0                0.0      3.0       0.0   \n",
       "2           1.0     1.0      1.0                0.0      1.0       0.0   \n",
       "3           1.0     1.0      1.0                0.0      3.0       0.0   \n",
       "4           1.0     1.0      1.0                0.0      2.0       0.0   \n",
       "\n",
       "   PhysHlth  DiffWalk  Stroke  HighBP  Diabetes  \n",
       "0      30.0       0.0     0.0     1.0       0.0  \n",
       "1       0.0       0.0     1.0     1.0       0.0  \n",
       "2      10.0       0.0     0.0     0.0       0.0  \n",
       "3       3.0       0.0     0.0     1.0       0.0  \n",
       "4       0.0       0.0     0.0     0.0       0.0  "
      ]
     },
     "execution_count": 5,
     "metadata": {},
     "output_type": "execute_result"
    }
   ],
   "source": [
    "# Read data\n",
    "data = pd.read_csv(r'C:\\Users\\linda\\OneDrive\\Desktop\\diabetes_data.csv')\n",
    "\n",
    "data.head()\n",
    "# data.shape"
   ]
  },
  {
   "cell_type": "markdown",
   "id": "43484db4",
   "metadata": {},
   "source": [
    "I already created an Artificial Neural Network model that keeps the BMI as a continuous feature. It will be loaded for comparison against model with BMI as categories.\n",
    "\n",
    "Feature Engineering:\n",
    " - Cut the BMI feature into categories\n",
    "  - BMI was converted into categories based on the CDC article \"Defining Adult Overweight & Obesity\" [2].\n",
    " - Convert the features' categories into One-Hot encoded features\n",
    "  - The Age feature is already categorized as 1-13 (see metadata in [1]); it just needs One-Hot encoding.\n",
    " - Add to new dataset and rename columns"
   ]
  },
  {
   "cell_type": "code",
   "execution_count": 6,
   "id": "346e7ed0",
   "metadata": {},
   "outputs": [],
   "source": [
    "# Cut BMI feature into categories for One-Hot encoding\n",
    "BMI_cuts = pd.cut(x=data['BMI'], bins = [0,18.5,24.9,29.9,34.9,39.9,np.inf],\n",
    "             labels = list(range(6)))\n",
    "\n",
    "# One hot encoding with .get_dummies() function\n",
    "BMI_dummies = pd.get_dummies(BMI_cuts, drop_first=True)\n",
    "\n",
    "\n",
    "# Add the one-hot encoded features to the original dataset\n",
    "# with the original BMI feature dropped\n",
    "data = pd.concat([data.drop('BMI', axis = 1), BMI_dummies], axis=1)\n",
    "\n",
    "\n",
    "# Renaming BMI weight for clarity\n",
    "data.rename(columns = {0:'underW', 1:'healthyW', 2:'overW', 3:'obsC1',\n",
    "                      4:'obsC1', 5:'obsC2'}, inplace = True)\n",
    "\n",
    "# Create lists of target labels for usage later\n",
    "TARGET_LABELS = ['Stroke','HighBP','Diabetes']"
   ]
  },
  {
   "cell_type": "code",
   "execution_count": 7,
   "id": "8ac37cb6",
   "metadata": {},
   "outputs": [],
   "source": [
    "# One-Hot Encode Age feature\n",
    "AGE_dummies = pd.get_dummies(data['Age'], drop_first=True)\n",
    "\n",
    "data = pd.concat([data.drop('Age', axis = 1), AGE_dummies], axis=1)"
   ]
  },
  {
   "cell_type": "code",
   "execution_count": 8,
   "id": "183f130c",
   "metadata": {},
   "outputs": [],
   "source": [
    "# Convert dataframe subsets to numpy arrays\n",
    "X = data.drop(['Stroke','HighBP','Diabetes'], axis = 1).to_numpy() # Predictors\n",
    "y = data[['Stroke','HighBP','Diabetes']].to_numpy()                # 3 targets, binary"
   ]
  },
  {
   "cell_type": "code",
   "execution_count": 9,
   "id": "befdab97",
   "metadata": {},
   "outputs": [],
   "source": [
    "# Split into training and testing sets\n",
    "# Sets will by further split into validation, next\n",
    "X_train, X_test, y_train, y_test = train_test_split(X, y, test_size=0.2, random_state=42)\n",
    "\n",
    "# Further split training set into validation set\n",
    "X_valid, X_train = X_train[:5000], X_train[5000:]\n",
    "y_valid, y_train = y_train[:5000], y_train[5000:]\n",
    "\n",
    "\n",
    "# print(X_valid.shape)\n",
    "# print(X_train.shape)\n",
    "# print(y_valid.shape)\n",
    "# print(y_train.shape)"
   ]
  },
  {
   "cell_type": "code",
   "execution_count": 18,
   "id": "e7a50c36",
   "metadata": {},
   "outputs": [],
   "source": [
    "# Number of input features; the number of features for any observation\n",
    "\n",
    "\n",
    "# Creating sequential model\n",
    "m = keras.models.Sequential([\n",
    " keras.layers.InputLayer(30),                       # One input node per feature, n\n",
    " keras.layers.Dense(1000, activation=\"relu\"),   # n^3 nodes\n",
    " keras.layers.Dense(300, activation=\"relu\"),      # n^2 nodes\n",
    " keras.layers.Dense(3, activation=\"sigmoid\")        # one output node per label\n",
    "])"
   ]
  },
  {
   "cell_type": "code",
   "execution_count": 19,
   "id": "79559a31",
   "metadata": {},
   "outputs": [
    {
     "data": {
      "text/plain": [
       "(30,)"
      ]
     },
     "execution_count": 19,
     "metadata": {},
     "output_type": "execute_result"
    }
   ],
   "source": [
    "X_valid[0].shape"
   ]
  },
  {
   "cell_type": "code",
   "execution_count": 20,
   "id": "e7c1b4e7",
   "metadata": {},
   "outputs": [
    {
     "name": "stdout",
     "output_type": "stream",
     "text": [
      "Model: \"sequential_2\"\n",
      "_________________________________________________________________\n",
      "Layer (type)                 Output Shape              Param #   \n",
      "=================================================================\n",
      "dense_6 (Dense)              (None, 1000)              31000     \n",
      "_________________________________________________________________\n",
      "dense_7 (Dense)              (None, 300)               300300    \n",
      "_________________________________________________________________\n",
      "dense_8 (Dense)              (None, 3)                 903       \n",
      "=================================================================\n",
      "Total params: 332,203\n",
      "Trainable params: 332,203\n",
      "Non-trainable params: 0\n",
      "_________________________________________________________________\n"
     ]
    }
   ],
   "source": [
    "# Model summary to inspect number of connections\n",
    "m.summary()"
   ]
  },
  {
   "cell_type": "code",
   "execution_count": 21,
   "id": "08834c68",
   "metadata": {},
   "outputs": [],
   "source": [
    "m.compile(loss=\"binary_crossentropy\", # For binary classification\n",
    " optimizer=\"sgd\",                     # SGD\n",
    " metrics=[\"accuracy\"])                # Display accuracy"
   ]
  },
  {
   "cell_type": "code",
   "execution_count": 22,
   "id": "3a3fe8f6",
   "metadata": {},
   "outputs": [
    {
     "name": "stdout",
     "output_type": "stream",
     "text": [
      "Epoch 1/30\n",
      "1612/1612 [==============================] - 4s 3ms/step - loss: 0.4923 - accuracy: 0.4585 - val_loss: 0.4637 - val_accuracy: 0.4794\n",
      "Epoch 2/30\n",
      "1612/1612 [==============================] - 4s 2ms/step - loss: 0.4464 - accuracy: 0.4537 - val_loss: 0.4508 - val_accuracy: 0.4696\n",
      "Epoch 3/30\n",
      "1612/1612 [==============================] - 5s 3ms/step - loss: 0.4352 - accuracy: 0.4518 - val_loss: 0.4314 - val_accuracy: 0.4630\n",
      "Epoch 4/30\n",
      "1612/1612 [==============================] - 5s 3ms/step - loss: 0.4300 - accuracy: 0.4519 - val_loss: 0.4298 - val_accuracy: 0.3646\n",
      "Epoch 5/30\n",
      "1612/1612 [==============================] - 5s 3ms/step - loss: 0.4274 - accuracy: 0.4476 - val_loss: 0.4948 - val_accuracy: 0.2616\n",
      "Epoch 6/30\n",
      "1612/1612 [==============================] - 5s 3ms/step - loss: 0.4255 - accuracy: 0.4453 - val_loss: 0.4393 - val_accuracy: 0.4588\n",
      "Epoch 7/30\n",
      "1612/1612 [==============================] - 5s 3ms/step - loss: 0.4238 - accuracy: 0.4504 - val_loss: 0.4290 - val_accuracy: 0.4050\n",
      "Epoch 8/30\n",
      "1612/1612 [==============================] - 5s 3ms/step - loss: 0.4227 - accuracy: 0.4496 - val_loss: 0.4429 - val_accuracy: 0.4184\n",
      "Epoch 9/30\n",
      "1612/1612 [==============================] - 5s 3ms/step - loss: 0.4221 - accuracy: 0.4453 - val_loss: 0.4220 - val_accuracy: 0.4118\n",
      "Epoch 10/30\n",
      "1612/1612 [==============================] - 6s 4ms/step - loss: 0.4211 - accuracy: 0.4459 - val_loss: 0.4220 - val_accuracy: 0.4764\n",
      "Epoch 11/30\n",
      "1612/1612 [==============================] - 6s 4ms/step - loss: 0.4208 - accuracy: 0.4462 - val_loss: 0.4214 - val_accuracy: 0.4250\n",
      "Epoch 12/30\n",
      "1612/1612 [==============================] - 6s 4ms/step - loss: 0.4202 - accuracy: 0.4439 - val_loss: 0.8798 - val_accuracy: 0.4692\n",
      "Epoch 13/30\n",
      "1612/1612 [==============================] - 5s 3ms/step - loss: 0.4210 - accuracy: 0.4446 - val_loss: 0.4284 - val_accuracy: 0.3406\n",
      "Epoch 14/30\n",
      "1612/1612 [==============================] - 5s 3ms/step - loss: 0.4192 - accuracy: 0.4399 - val_loss: 0.4256 - val_accuracy: 0.4708\n",
      "Epoch 15/30\n",
      "1612/1612 [==============================] - 5s 3ms/step - loss: 0.4191 - accuracy: 0.4456 - val_loss: 0.4204 - val_accuracy: 0.4358\n",
      "Epoch 16/30\n",
      "1612/1612 [==============================] - 5s 3ms/step - loss: 0.4187 - accuracy: 0.4442 - val_loss: 0.4237 - val_accuracy: 0.4362\n",
      "Epoch 17/30\n",
      "1612/1612 [==============================] - 5s 3ms/step - loss: 0.4183 - accuracy: 0.4447 - val_loss: 0.4258 - val_accuracy: 0.3350\n",
      "Epoch 18/30\n",
      "1612/1612 [==============================] - 5s 3ms/step - loss: 0.4182 - accuracy: 0.4453 - val_loss: 0.5171 - val_accuracy: 0.4972\n",
      "Epoch 19/30\n",
      "1612/1612 [==============================] - 5s 3ms/step - loss: 0.4179 - accuracy: 0.4429 - val_loss: 0.4519 - val_accuracy: 0.3756\n",
      "Epoch 20/30\n",
      "1612/1612 [==============================] - 5s 3ms/step - loss: 0.4178 - accuracy: 0.4406 - val_loss: 0.4201 - val_accuracy: 0.4068\n",
      "Epoch 21/30\n",
      "1612/1612 [==============================] - 5s 3ms/step - loss: 0.4174 - accuracy: 0.4399 - val_loss: 0.4214 - val_accuracy: 0.4672\n",
      "Epoch 22/30\n",
      "1612/1612 [==============================] - 6s 4ms/step - loss: 0.4172 - accuracy: 0.4462 - val_loss: 0.4674 - val_accuracy: 0.2894\n",
      "Epoch 23/30\n",
      "1612/1612 [==============================] - 5s 3ms/step - loss: 0.4171 - accuracy: 0.4418 - val_loss: 0.4307 - val_accuracy: 0.4192\n",
      "Epoch 24/30\n",
      "1612/1612 [==============================] - 5s 3ms/step - loss: 0.4168 - accuracy: 0.4435 - val_loss: 0.4224 - val_accuracy: 0.4452\n",
      "Epoch 25/30\n",
      "1612/1612 [==============================] - 6s 3ms/step - loss: 0.4168 - accuracy: 0.4452 - val_loss: 0.4307 - val_accuracy: 0.4860\n",
      "Epoch 26/30\n",
      "1612/1612 [==============================] - 5s 3ms/step - loss: 0.4165 - accuracy: 0.4453 - val_loss: 0.4198 - val_accuracy: 0.3272\n",
      "Epoch 27/30\n",
      "1612/1612 [==============================] - 5s 3ms/step - loss: 0.4165 - accuracy: 0.4406 - val_loss: 0.4227 - val_accuracy: 0.4518\n",
      "Epoch 28/30\n",
      "1612/1612 [==============================] - 6s 4ms/step - loss: 0.4163 - accuracy: 0.4429 - val_loss: 0.4184 - val_accuracy: 0.3996\n",
      "Epoch 29/30\n",
      "1612/1612 [==============================] - 5s 3ms/step - loss: 0.4160 - accuracy: 0.4414 - val_loss: 0.4212 - val_accuracy: 0.4492\n",
      "Epoch 30/30\n",
      "1612/1612 [==============================] - 5s 3ms/step - loss: 0.4162 - accuracy: 0.4433 - val_loss: 0.4194 - val_accuracy: 0.4248\n"
     ]
    }
   ],
   "source": [
    "history = m.fit(X_train, y_train, epochs=30,\n",
    "                     validation_data=(X_valid, y_valid), batch_size = 32)"
   ]
  },
  {
   "cell_type": "code",
   "execution_count": 23,
   "id": "f7883bde",
   "metadata": {},
   "outputs": [
    {
     "data": {
      "image/png": "[encoded data removed]",
      "text/plain": [
       "<Figure size 800x500 with 1 Axes>"
      ]
     },
     "metadata": {},
     "output_type": "display_data"
    }
   ],
   "source": [
    "pd.DataFrame(history.history).plot(figsize=(8, 5))\n",
    "plt.grid(True)\n",
    "plt.gca().set_ylim(0, 1) # set the vertical range to [0-1]\n",
    "plt.show()"
   ]
  },
  {
   "cell_type": "markdown",
   "id": "b2a31065",
   "metadata": {},
   "source": [
    "The first model only used the raw dataset and the validation accuracy had jumps from 10% to 40% and vice versa, frequently, and never converged to a good solution\n",
    "\n",
    "The model with BMI categorized by the six classes designated by the CDC has its validation accuracy jump much less, but still performs poorly.\n",
    "\n",
    "Unfortunately, using n^n power of layers for the 3rd model that has 30 features causes over twenty-five million connections. Using nodes 1000 and 300 produces similar results to the previous model that only has BMI One-Hot encoded."
   ]
  },
  {
   "cell_type": "code",
   "execution_count": null,
   "id": "a96c76f6",
   "metadata": {
    "scrolled": true
   },
   "outputs": [],
   "source": [
    "# Predictions, outputs probabilities for current model\n",
    "predictions_matrix_probs = m.predict(X_valid)\n",
    "\n",
    "# Predictions, outputs probabilities for unengineered\n",
    "# X_valid[:,:15] takes only the first 15 features\n",
    "predictions_matrix_probs2 = raw_ANN.predict(X_valid[:,:15])"
   ]
  },
  {
   "cell_type": "code",
   "execution_count": null,
   "id": "7b837563",
   "metadata": {},
   "outputs": [],
   "source": [
    "print(predictions_matrix_probs[:2])\n",
    "print(predictions_matrix_probs2[:2])"
   ]
  },
  {
   "cell_type": "code",
   "execution_count": null,
   "id": "ad3bb333",
   "metadata": {},
   "outputs": [],
   "source": [
    "# LIST COMPREHENSION\n",
    "# to convert probabilities into binary decision\n",
    "# 1 if the vector index is >= .5, else put 0\n",
    "# For each vector in the prediction matrix\n",
    "predictions_matrix_bin = np.array([[1 if i >= .5 else 0 for i in vector] \\\n",
    "                          for vector in predictions_matrix_probs])\n",
    "\n",
    "predictions_matrix_bin2 = np.array([[1 if i >= .5 else 0 for i in vector] \\\n",
    "                          for vector in predictions_matrix_probs2])"
   ]
  },
  {
   "cell_type": "code",
   "execution_count": null,
   "id": "ff8dbf53",
   "metadata": {},
   "outputs": [],
   "source": [
    "# Printing the confusion matrices, one for each label\n",
    "for i in range(len(TARGET_LABELS)):\n",
    "    print(f\"CONFUSION MATRIX for {TARGET_LABELS[i]}:\")\n",
    "    print(\"____________________________\")\n",
    "    print(multilabel_confusion_matrix(predictions_matrix_bin, y_valid)[i],end = '\\n'*2)"
   ]
  },
  {
   "cell_type": "code",
   "execution_count": null,
   "id": "d9869594",
   "metadata": {},
   "outputs": [],
   "source": [
    "for i in range(len(TARGET_LABELS)):\n",
    "    print(f\"CONFUSION MATRIX for {TARGET_LABELS[i]}:\")\n",
    "    print(\"____________________________\")\n",
    "    print(multilabel_confusion_matrix(predictions_matrix_bin2, y_valid)[i],end = '\\n'*2)"
   ]
  },
  {
   "cell_type": "code",
   "execution_count": null,
   "id": "41be9d32",
   "metadata": {},
   "outputs": [],
   "source": [
    "m.save('ANN_with_BMI_cats.h5')"
   ]
  },
  {
   "cell_type": "markdown",
   "id": "45e84e32",
   "metadata": {},
   "source": [
    "References:\n",
    "\n",
    "[1] https://www.kaggle.com/datasets/prosperchuks/health-dataset\n",
    "\n",
    "[2] https://www.cdc.gov/obesity/basics/adult-defining.html\n",
    "\n",
    "[3] https://apps.who.int/gho/data/node.searo-metadata.AGEGROUP?lang=en"
   ]
  },
  {
   "cell_type": "code",
   "execution_count": null,
   "id": "bfd1467f",
   "metadata": {},
   "outputs": [],
   "source": []
  }
 ],
 "metadata": {
  "kernelspec": {
   "display_name": "Python 3 (ipykernel)",
   "language": "python",
   "name": "python3"
  },
  "language_info": {
   "codemirror_mode": {
    "name": "ipython",
    "version": 3
   },
   "file_extension": ".py",
   "mimetype": "text/x-python",
   "name": "python",
   "nbconvert_exporter": "python",
   "pygments_lexer": "ipython3",
   "version": "3.9.13"
  }
 },
 "nbformat": 4,
 "nbformat_minor": 5
}
