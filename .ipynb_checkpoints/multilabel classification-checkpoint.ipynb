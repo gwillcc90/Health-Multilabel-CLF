{
 "cells": [
  {
   "cell_type": "markdown",
   "id": "017b3dec",
   "metadata": {},
   "source": [
    "# Multilabel Classification on a Diabetes Dataset\n",
    "\n",
    "Goal statement: I use the diabetes_data.csv dataset from Kaggle.com [1] to perform multilabel classification by predicting whether the patient has diabetes, stroke, and high blood pressure using Keras's Functional API. This is a multilabel, binary classification problem."
   ]
  },
  {
   "cell_type": "code",
   "execution_count": 1,
   "id": "e0831b64",
   "metadata": {},
   "outputs": [],
   "source": [
    "# Libraries and imports\n",
    "import pandas as pd\n",
    "import tensorflow as tf\n",
    "from sklearn.model_selection import train_test_split\n",
    "from tensorflow import keras\n",
    "import numpy as np\n",
    "import matplotlib.pyplot as plt\n",
    "from sklearn.metrics import multilabel_confusion_matrix"
   ]
  },
  {
   "cell_type": "code",
   "execution_count": 2,
   "id": "9db11871",
   "metadata": {},
   "outputs": [],
   "source": [
    "# model with unedited dataset\n",
    "raw_ANN = keras.models.load_model('multilabel_clf_unengineered.h5')\n",
    "# model with BMI categorized and One-Hot encoded\n",
    "ANN_BMI_cats = keras.models.load_model('ANN_with_BMI_cats.h5')"
   ]
  },
  {
   "cell_type": "code",
   "execution_count": 18,
   "id": "affcce16",
   "metadata": {},
   "outputs": [
    {
     "data": {
      "text/html": [
       "<div>\n",
       "<style scoped>\n",
       "    .dataframe tbody tr th:only-of-type {\n",
       "        vertical-align: middle;\n",
       "    }\n",
       "\n",
       "    .dataframe tbody tr th {\n",
       "        vertical-align: top;\n",
       "    }\n",
       "\n",
       "    .dataframe thead th {\n",
       "        text-align: right;\n",
       "    }\n",
       "</style>\n",
       "<table border=\"1\" class=\"dataframe\">\n",
       "  <thead>\n",
       "    <tr style=\"text-align: right;\">\n",
       "      <th></th>\n",
       "      <th>Age</th>\n",
       "      <th>Sex</th>\n",
       "      <th>HighChol</th>\n",
       "      <th>CholCheck</th>\n",
       "      <th>BMI</th>\n",
       "      <th>Smoker</th>\n",
       "      <th>HeartDiseaseorAttack</th>\n",
       "      <th>PhysActivity</th>\n",
       "      <th>Fruits</th>\n",
       "      <th>Veggies</th>\n",
       "      <th>HvyAlcoholConsump</th>\n",
       "      <th>GenHlth</th>\n",
       "      <th>MentHlth</th>\n",
       "      <th>PhysHlth</th>\n",
       "      <th>DiffWalk</th>\n",
       "      <th>Stroke</th>\n",
       "      <th>HighBP</th>\n",
       "      <th>Diabetes</th>\n",
       "    </tr>\n",
       "  </thead>\n",
       "  <tbody>\n",
       "    <tr>\n",
       "      <th>0</th>\n",
       "      <td>4.0</td>\n",
       "      <td>1.0</td>\n",
       "      <td>0.0</td>\n",
       "      <td>1.0</td>\n",
       "      <td>26.0</td>\n",
       "      <td>0.0</td>\n",
       "      <td>0.0</td>\n",
       "      <td>1.0</td>\n",
       "      <td>0.0</td>\n",
       "      <td>1.0</td>\n",
       "      <td>0.0</td>\n",
       "      <td>3.0</td>\n",
       "      <td>5.0</td>\n",
       "      <td>30.0</td>\n",
       "      <td>0.0</td>\n",
       "      <td>0.0</td>\n",
       "      <td>1.0</td>\n",
       "      <td>0.0</td>\n",
       "    </tr>\n",
       "    <tr>\n",
       "      <th>1</th>\n",
       "      <td>12.0</td>\n",
       "      <td>1.0</td>\n",
       "      <td>1.0</td>\n",
       "      <td>1.0</td>\n",
       "      <td>26.0</td>\n",
       "      <td>1.0</td>\n",
       "      <td>0.0</td>\n",
       "      <td>0.0</td>\n",
       "      <td>1.0</td>\n",
       "      <td>0.0</td>\n",
       "      <td>0.0</td>\n",
       "      <td>3.0</td>\n",
       "      <td>0.0</td>\n",
       "      <td>0.0</td>\n",
       "      <td>0.0</td>\n",
       "      <td>1.0</td>\n",
       "      <td>1.0</td>\n",
       "      <td>0.0</td>\n",
       "    </tr>\n",
       "    <tr>\n",
       "      <th>2</th>\n",
       "      <td>13.0</td>\n",
       "      <td>1.0</td>\n",
       "      <td>0.0</td>\n",
       "      <td>1.0</td>\n",
       "      <td>26.0</td>\n",
       "      <td>0.0</td>\n",
       "      <td>0.0</td>\n",
       "      <td>1.0</td>\n",
       "      <td>1.0</td>\n",
       "      <td>1.0</td>\n",
       "      <td>0.0</td>\n",
       "      <td>1.0</td>\n",
       "      <td>0.0</td>\n",
       "      <td>10.0</td>\n",
       "      <td>0.0</td>\n",
       "      <td>0.0</td>\n",
       "      <td>0.0</td>\n",
       "      <td>0.0</td>\n",
       "    </tr>\n",
       "    <tr>\n",
       "      <th>3</th>\n",
       "      <td>11.0</td>\n",
       "      <td>1.0</td>\n",
       "      <td>1.0</td>\n",
       "      <td>1.0</td>\n",
       "      <td>28.0</td>\n",
       "      <td>1.0</td>\n",
       "      <td>0.0</td>\n",
       "      <td>1.0</td>\n",
       "      <td>1.0</td>\n",
       "      <td>1.0</td>\n",
       "      <td>0.0</td>\n",
       "      <td>3.0</td>\n",
       "      <td>0.0</td>\n",
       "      <td>3.0</td>\n",
       "      <td>0.0</td>\n",
       "      <td>0.0</td>\n",
       "      <td>1.0</td>\n",
       "      <td>0.0</td>\n",
       "    </tr>\n",
       "    <tr>\n",
       "      <th>4</th>\n",
       "      <td>8.0</td>\n",
       "      <td>0.0</td>\n",
       "      <td>0.0</td>\n",
       "      <td>1.0</td>\n",
       "      <td>29.0</td>\n",
       "      <td>1.0</td>\n",
       "      <td>0.0</td>\n",
       "      <td>1.0</td>\n",
       "      <td>1.0</td>\n",
       "      <td>1.0</td>\n",
       "      <td>0.0</td>\n",
       "      <td>2.0</td>\n",
       "      <td>0.0</td>\n",
       "      <td>0.0</td>\n",
       "      <td>0.0</td>\n",
       "      <td>0.0</td>\n",
       "      <td>0.0</td>\n",
       "      <td>0.0</td>\n",
       "    </tr>\n",
       "  </tbody>\n",
       "</table>\n",
       "</div>"
      ],
      "text/plain": [
       "    Age  Sex  HighChol  CholCheck   BMI  Smoker  HeartDiseaseorAttack  \\\n",
       "0   4.0  1.0       0.0        1.0  26.0     0.0                   0.0   \n",
       "1  12.0  1.0       1.0        1.0  26.0     1.0                   0.0   \n",
       "2  13.0  1.0       0.0        1.0  26.0     0.0                   0.0   \n",
       "3  11.0  1.0       1.0        1.0  28.0     1.0                   0.0   \n",
       "4   8.0  0.0       0.0        1.0  29.0     1.0                   0.0   \n",
       "\n",
       "   PhysActivity  Fruits  Veggies  HvyAlcoholConsump  GenHlth  MentHlth  \\\n",
       "0           1.0     0.0      1.0                0.0      3.0       5.0   \n",
       "1           0.0     1.0      0.0                0.0      3.0       0.0   \n",
       "2           1.0     1.0      1.0                0.0      1.0       0.0   \n",
       "3           1.0     1.0      1.0                0.0      3.0       0.0   \n",
       "4           1.0     1.0      1.0                0.0      2.0       0.0   \n",
       "\n",
       "   PhysHlth  DiffWalk  Stroke  HighBP  Diabetes  \n",
       "0      30.0       0.0     0.0     1.0       0.0  \n",
       "1       0.0       0.0     1.0     1.0       0.0  \n",
       "2      10.0       0.0     0.0     0.0       0.0  \n",
       "3       3.0       0.0     0.0     1.0       0.0  \n",
       "4       0.0       0.0     0.0     0.0       0.0  "
      ]
     },
     "execution_count": 18,
     "metadata": {},
     "output_type": "execute_result"
    }
   ],
   "source": [
    "# Read data\n",
    "data = pd.read_csv(r'C:\\Users\\linda\\OneDrive\\Desktop\\diabetes_data.csv')\n",
    "\n",
    "data.head()\n",
    "# data.shape"
   ]
  },
  {
   "cell_type": "code",
   "execution_count": 22,
   "id": "ec298461",
   "metadata": {},
   "outputs": [
    {
     "data": {
      "text/plain": [
       "count    70692.000000\n",
       "mean         8.584055\n",
       "std          2.852153\n",
       "min          1.000000\n",
       "25%          7.000000\n",
       "50%          9.000000\n",
       "75%         11.000000\n",
       "max         13.000000\n",
       "Name: Age, dtype: float64"
      ]
     },
     "execution_count": 22,
     "metadata": {},
     "output_type": "execute_result"
    }
   ],
   "source": [
    "data['Age'].describe()"
   ]
  },
  {
   "cell_type": "markdown",
   "id": "6c6de319",
   "metadata": {},
   "source": [
    "I already created an Artificial Neural Network model that keeps the BMI as a continuous feature. It will be loaded for comparison against model with BMI as categories.\n",
    "\n",
    "Feature Engineering:\n",
    " - Cut the BMI feature into categories\n",
    "  - BMI was converted into categories based on the CDC article \"Defining Adult Overweight & Obesity\" [2].\n",
    " - Convert the features' categories into One-Hot encoded features\n",
    "  - The Age feature is already categorized as 1-13 (see metadata in [1]); it just needs One-Hot encoding.\n",
    " - Add to new dataset and rename columns"
   ]
  },
  {
   "cell_type": "code",
   "execution_count": 4,
   "id": "8db295d9",
   "metadata": {},
   "outputs": [],
   "source": [
    "# Cut BMI feature into categories for One-Hot encoding\n",
    "BMI_cuts = pd.cut(x=data['BMI'], bins = [0,18.5,24.9,29.9,34.9,39.9,np.inf],\n",
    "             labels = list(range(6)))\n",
    "\n",
    "# One hot encoding with .get_dummies() function\n",
    "BMI_dummies = pd.get_dummies(BMI_cuts, drop_first=True)\n",
    "\n",
    "\n",
    "# Add the one-hot encoded features to the original dataset\n",
    "# with the original BMI feature dropped\n",
    "data = pd.concat([data.drop('BMI', axis = 1), BMI_dummies], axis=1)\n",
    "\n",
    "\n",
    "# Renaming BMI weight for clarity\n",
    "data.rename(columns = {0:'underW', 1:'healthyW', 2:'overW', 3:'obsC1',\n",
    "                      4:'obsC1', 5:'obsC2'}, inplace = True)\n",
    "\n",
    "# Create lists of target labels for usage later\n",
    "TARGET_LABELS = ['Stroke','HighBP','Diabetes']"
   ]
  },
  {
   "cell_type": "code",
   "execution_count": 23,
   "id": "5cdfd92f",
   "metadata": {},
   "outputs": [
    {
     "data": {
      "text/plain": [
       "10.0    10856\n",
       "9.0     10112\n",
       "8.0      8603\n",
       "11.0     8044\n",
       "7.0      6872\n",
       "13.0     5426\n",
       "12.0     5394\n",
       "6.0      4648\n",
       "5.0      3520\n",
       "4.0      2793\n",
       "3.0      2049\n",
       "2.0      1396\n",
       "1.0       979\n",
       "Name: Age, dtype: int64"
      ]
     },
     "execution_count": 23,
     "metadata": {},
     "output_type": "execute_result"
    }
   ],
   "source": []
  },
  {
   "cell_type": "code",
   "execution_count": 5,
   "id": "183f130c",
   "metadata": {},
   "outputs": [],
   "source": [
    "# Convert dataframe subsets to numpy arrays\n",
    "X = data.drop(['Stroke','HighBP','Diabetes'], axis = 1).to_numpy() # Predictors\n",
    "y = data[['Stroke','HighBP','Diabetes']].to_numpy()                # 3 targets, binary"
   ]
  },
  {
   "cell_type": "code",
   "execution_count": 6,
   "id": "befdab97",
   "metadata": {},
   "outputs": [],
   "source": [
    "# Split into training and testing sets\n",
    "# Sets will by further split into validation, next\n",
    "X_train, X_test, y_train, y_test = train_test_split(X, y, test_size=0.2, random_state=42)\n",
    "\n",
    "# Further split training set into validation set\n",
    "X_valid, X_train = X_train[:5000], X_train[5000:]\n",
    "y_valid, y_train = y_train[:5000], y_train[5000:]\n",
    "\n",
    "\n",
    "# print(X_valid.shape)\n",
    "# print(X_train.shape)\n",
    "# print(y_valid.shape)\n",
    "# print(y_train.shape)"
   ]
  },
  {
   "cell_type": "markdown",
   "id": "9a3a2db2",
   "metadata": {},
   "source": [
    "Because I'm creating and evaluating models, then engineering features, then repeating, the ANN hyperparameters will be stored in variables as the layer sizes will change accordingly to the number of features."
   ]
  },
  {
   "cell_type": "code",
   "execution_count": 7,
   "id": "e7a50c36",
   "metadata": {},
   "outputs": [],
   "source": [
    "# Number of input features; the number of features for any observation\n",
    "n = X[0].shape[0]\n",
    "\n",
    "\n",
    "# Creating sequential model\n",
    "m = keras.models.Sequential([\n",
    " keras.layers.InputLayer(n),                   # One input node per feature, n\n",
    " keras.layers.Dense(n^3, activation=\"relu\"),   # n^3 nodes\n",
    " keras.layers.Dense(n^2, activation=\"relu\"),   # n^2 nodes\n",
    " keras.layers.Dense(3, activation=\"sigmoid\")   # one output node per label\n",
    "])"
   ]
  },
  {
   "cell_type": "code",
   "execution_count": 8,
   "id": "e7c1b4e7",
   "metadata": {},
   "outputs": [
    {
     "name": "stdout",
     "output_type": "stream",
     "text": [
      "Model: \"sequential\"\n",
      "_________________________________________________________________\n",
      "Layer (type)                 Output Shape              Param #   \n",
      "=================================================================\n",
      "dense (Dense)                (None, 16)                320       \n",
      "_________________________________________________________________\n",
      "dense_1 (Dense)              (None, 17)                289       \n",
      "_________________________________________________________________\n",
      "dense_2 (Dense)              (None, 3)                 54        \n",
      "=================================================================\n",
      "Total params: 663\n",
      "Trainable params: 663\n",
      "Non-trainable params: 0\n",
      "_________________________________________________________________\n"
     ]
    }
   ],
   "source": [
    "# Model summary to inspect number of connections\n",
    "m.summary()"
   ]
  },
  {
   "cell_type": "code",
   "execution_count": 9,
   "id": "08834c68",
   "metadata": {},
   "outputs": [],
   "source": [
    "m.compile(loss=\"binary_crossentropy\", # For binary classification\n",
    " optimizer=\"sgd\",                     # SGD\n",
    " metrics=[\"accuracy\"])                # Display accuracy"
   ]
  },
  {
   "cell_type": "code",
   "execution_count": 10,
   "id": "3a3fe8f6",
   "metadata": {
    "scrolled": true
   },
   "outputs": [
    {
     "name": "stdout",
     "output_type": "stream",
     "text": [
      "Epoch 1/30\n",
      "1612/1612 [==============================] - 3s 1ms/step - loss: 0.4882 - accuracy: 0.4349 - val_loss: 0.6190 - val_accuracy: 0.3902\n",
      "Epoch 2/30\n",
      "1612/1612 [==============================] - 2s 1ms/step - loss: 0.4501 - accuracy: 0.4532 - val_loss: 0.4461 - val_accuracy: 0.4374\n",
      "Epoch 3/30\n",
      "1612/1612 [==============================] - 3s 2ms/step - loss: 0.4404 - accuracy: 0.4580 - val_loss: 0.4432 - val_accuracy: 0.4958\n",
      "Epoch 4/30\n",
      "1612/1612 [==============================] - 3s 2ms/step - loss: 0.4360 - accuracy: 0.4641 - val_loss: 0.8208 - val_accuracy: 0.5034\n",
      "Epoch 5/30\n",
      "1612/1612 [==============================] - 3s 2ms/step - loss: 0.4339 - accuracy: 0.4666 - val_loss: 0.5816 - val_accuracy: 0.4542\n",
      "Epoch 6/30\n",
      "1612/1612 [==============================] - 3s 2ms/step - loss: 0.4318 - accuracy: 0.4644 - val_loss: 0.4352 - val_accuracy: 0.5034\n",
      "Epoch 7/30\n",
      "1612/1612 [==============================] - 4s 2ms/step - loss: 0.4302 - accuracy: 0.4653 - val_loss: 0.4379 - val_accuracy: 0.2462\n",
      "Epoch 8/30\n",
      "1612/1612 [==============================] - 3s 2ms/step - loss: 0.4291 - accuracy: 0.4583 - val_loss: 0.4589 - val_accuracy: 0.4436\n",
      "Epoch 9/30\n",
      "1612/1612 [==============================] - 3s 2ms/step - loss: 0.4280 - accuracy: 0.4590 - val_loss: 0.4276 - val_accuracy: 0.3980\n",
      "Epoch 10/30\n",
      "1612/1612 [==============================] - 3s 2ms/step - loss: 0.4269 - accuracy: 0.4616 - val_loss: 0.5722 - val_accuracy: 0.4702\n",
      "Epoch 11/30\n",
      "1612/1612 [==============================] - 2s 1ms/step - loss: 0.4269 - accuracy: 0.4576 - val_loss: 0.5293 - val_accuracy: 0.2298\n",
      "Epoch 12/30\n",
      "1612/1612 [==============================] - 2s 1ms/step - loss: 0.4261 - accuracy: 0.4548 - val_loss: 0.4495 - val_accuracy: 0.4976\n",
      "Epoch 13/30\n",
      "1612/1612 [==============================] - 3s 2ms/step - loss: 0.4250 - accuracy: 0.4557 - val_loss: 0.4962 - val_accuracy: 0.4178\n",
      "Epoch 14/30\n",
      "1612/1612 [==============================] - 2s 1ms/step - loss: 0.4245 - accuracy: 0.4535 - val_loss: 0.4286 - val_accuracy: 0.3946\n",
      "Epoch 15/30\n",
      "1612/1612 [==============================] - 2s 1ms/step - loss: 0.4239 - accuracy: 0.4563 - val_loss: 0.4757 - val_accuracy: 0.3728\n",
      "Epoch 16/30\n",
      "1612/1612 [==============================] - 2s 1ms/step - loss: 0.4237 - accuracy: 0.4537 - val_loss: 0.4276 - val_accuracy: 0.4996\n",
      "Epoch 17/30\n",
      "1612/1612 [==============================] - 2s 1ms/step - loss: 0.4232 - accuracy: 0.4555 - val_loss: 0.4596 - val_accuracy: 0.3522\n",
      "Epoch 18/30\n",
      "1612/1612 [==============================] - 2s 1ms/step - loss: 0.4227 - accuracy: 0.4528 - val_loss: 0.4364 - val_accuracy: 0.5016\n",
      "Epoch 19/30\n",
      "1612/1612 [==============================] - 2s 1ms/step - loss: 0.4224 - accuracy: 0.4517 - val_loss: 0.4249 - val_accuracy: 0.4500\n",
      "Epoch 20/30\n",
      "1612/1612 [==============================] - 2s 1ms/step - loss: 0.4220 - accuracy: 0.4528 - val_loss: 0.4724 - val_accuracy: 0.4158\n",
      "Epoch 21/30\n",
      "1612/1612 [==============================] - 2s 1ms/step - loss: 0.4217 - accuracy: 0.4530 - val_loss: 0.4396 - val_accuracy: 0.4144\n",
      "Epoch 22/30\n",
      "1612/1612 [==============================] - 3s 2ms/step - loss: 0.4217 - accuracy: 0.4490 - val_loss: 0.4230 - val_accuracy: 0.4340\n",
      "Epoch 23/30\n",
      "1612/1612 [==============================] - 2s 1ms/step - loss: 0.4212 - accuracy: 0.4556 - val_loss: 0.4330 - val_accuracy: 0.4944\n",
      "Epoch 24/30\n",
      "1612/1612 [==============================] - 2s 1ms/step - loss: 0.4212 - accuracy: 0.4504 - val_loss: 0.4343 - val_accuracy: 0.4670\n",
      "Epoch 25/30\n",
      "1612/1612 [==============================] - 2s 1ms/step - loss: 0.4207 - accuracy: 0.4509 - val_loss: 0.4234 - val_accuracy: 0.4914\n",
      "Epoch 26/30\n",
      "1612/1612 [==============================] - 2s 1ms/step - loss: 0.4204 - accuracy: 0.4494 - val_loss: 0.4566 - val_accuracy: 0.4480\n",
      "Epoch 27/30\n",
      "1612/1612 [==============================] - 2s 1ms/step - loss: 0.4203 - accuracy: 0.4522 - val_loss: 0.4266 - val_accuracy: 0.4774\n",
      "Epoch 28/30\n",
      "1612/1612 [==============================] - 2s 1ms/step - loss: 0.4202 - accuracy: 0.4523 - val_loss: 0.4279 - val_accuracy: 0.3580\n",
      "Epoch 29/30\n",
      "1612/1612 [==============================] - 2s 1ms/step - loss: 0.4199 - accuracy: 0.4497 - val_loss: 0.4598 - val_accuracy: 0.4968\n",
      "Epoch 30/30\n",
      "1612/1612 [==============================] - 2s 1ms/step - loss: 0.4197 - accuracy: 0.4502 - val_loss: 0.4582 - val_accuracy: 0.4786\n"
     ]
    }
   ],
   "source": [
    "history = m.fit(X_train, y_train, epochs=30,\n",
    "                     validation_data=(X_valid, y_valid))"
   ]
  },
  {
   "cell_type": "code",
   "execution_count": 11,
   "id": "f7883bde",
   "metadata": {},
   "outputs": [
    {
     "data": {
      "image/png": "[encoded data removed]",
      "text/plain": [
       "<Figure size 800x500 with 1 Axes>"
      ]
     },
     "metadata": {},
     "output_type": "display_data"
    }
   ],
   "source": [
    "pd.DataFrame(history.history).plot(figsize=(8, 5))\n",
    "plt.grid(True)\n",
    "plt.gca().set_ylim(0, 1) # set the vertical range to [0-1]\n",
    "plt.show()"
   ]
  },
  {
   "cell_type": "markdown",
   "id": "b2a31065",
   "metadata": {},
   "source": [
    "We see that the loss and accuracy converge without reaching a good solution. We will convert the `Age` feature into categories after looking at predictions.\n",
    "\n",
    "Load the model with the unedited dataset."
   ]
  },
  {
   "cell_type": "code",
   "execution_count": 12,
   "id": "a96c76f6",
   "metadata": {
    "scrolled": true
   },
   "outputs": [],
   "source": [
    "# Predictions, outputs probabilities for current model\n",
    "predictions_matrix_probs = m.predict(X_valid)\n",
    "\n",
    "# Predictions, outputs probabilities for unengineered\n",
    "# X_valid[:,:15] takes only the first 15 features\n",
    "predictions_matrix_probs2 = raw_ANN.predict(X_valid[:,:15])"
   ]
  },
  {
   "cell_type": "code",
   "execution_count": 13,
   "id": "fa1eecd7",
   "metadata": {
    "collapsed": true
   },
   "outputs": [
    {
     "name": "stdout",
     "output_type": "stream",
     "text": [
      "[[0.02171233 0.51453686 0.48144245]\n",
      " [0.35343212 0.82642937 0.77491784]]\n",
      "[[0.427373   0.4163969  0.2738595 ]\n",
      " [0.20985916 0.3225986  0.13661423]]\n"
     ]
    }
   ],
   "source": [
    "print(predictions_matrix_probs[:2])\n",
    "print(predictions_matrix_probs2[:2])"
   ]
  },
  {
   "cell_type": "code",
   "execution_count": 14,
   "id": "ad3bb333",
   "metadata": {},
   "outputs": [],
   "source": [
    "# LIST COMPREHENSION\n",
    "# to convert probabilities into binary decision\n",
    "# 1 if the vector index is >= .5, else put 0\n",
    "# For each vector in the prediction matrix\n",
    "predictions_matrix_bin = np.array([[1 if i >= .5 else 0 for i in vector] \\\n",
    "                          for vector in predictions_matrix_probs])\n",
    "\n",
    "predictions_matrix_bin2 = np.array([[1 if i >= .5 else 0 for i in vector] \\\n",
    "                          for vector in predictions_matrix_probs2])"
   ]
  },
  {
   "cell_type": "code",
   "execution_count": 15,
   "id": "d3ad6be4",
   "metadata": {},
   "outputs": [
    {
     "name": "stdout",
     "output_type": "stream",
     "text": [
      "CONFUSION MATRIX for Stroke:\n",
      "____________________________\n",
      "[[4701  299]\n",
      " [   0    0]]\n",
      "\n",
      "CONFUSION MATRIX for HighBP:\n",
      "____________________________\n",
      "[[1709  980]\n",
      " [ 533 1778]]\n",
      "\n",
      "CONFUSION MATRIX for Diabetes:\n",
      "____________________________\n",
      "[[2128 1183]\n",
      " [ 360 1329]]\n",
      "\n"
     ]
    }
   ],
   "source": [
    "# Printing the confusion matrices, one for each label\n",
    "for i in range(len(TARGET_LABELS)):\n",
    "    print(f\"CONFUSION MATRIX for {TARGET_LABELS[i]}:\")\n",
    "    print(\"____________________________\")\n",
    "    print(multilabel_confusion_matrix(predictions_matrix_bin, y_valid)[i],end = '\\n'*2)"
   ]
  },
  {
   "cell_type": "code",
   "execution_count": 16,
   "id": "bae4a537",
   "metadata": {},
   "outputs": [
    {
     "name": "stdout",
     "output_type": "stream",
     "text": [
      "CONFUSION MATRIX for Stroke:\n",
      "____________________________\n",
      "[[4141  246]\n",
      " [ 560   53]]\n",
      "\n",
      "CONFUSION MATRIX for HighBP:\n",
      "____________________________\n",
      "[[1849 2076]\n",
      " [ 393  682]]\n",
      "\n",
      "CONFUSION MATRIX for Diabetes:\n",
      "____________________________\n",
      "[[2182 2095]\n",
      " [ 306  417]]\n",
      "\n"
     ]
    }
   ],
   "source": [
    "for i in range(len(TARGET_LABELS)):\n",
    "    print(f\"CONFUSION MATRIX for {TARGET_LABELS[i]}:\")\n",
    "    print(\"____________________________\")\n",
    "    print(multilabel_confusion_matrix(predictions_matrix_bin2, y_valid)[i],end = '\\n'*2)"
   ]
  },
  {
   "cell_type": "code",
   "execution_count": 17,
   "id": "de4c2ad9",
   "metadata": {},
   "outputs": [],
   "source": []
  },
  {
   "cell_type": "markdown",
   "id": "139eb407",
   "metadata": {},
   "source": [
    "References:\n",
    "\n",
    "[1] https://www.kaggle.com/datasets/prosperchuks/health-dataset\n",
    "\n",
    "[2] https://www.cdc.gov/obesity/basics/adult-defining.html\n",
    "\n",
    "[3] https://apps.who.int/gho/data/node.searo-metadata.AGEGROUP?lang=en"
   ]
  },
  {
   "cell_type": "code",
   "execution_count": null,
   "id": "35af782e",
   "metadata": {},
   "outputs": [],
   "source": []
  }
 ],
 "metadata": {
  "kernelspec": {
   "display_name": "Python 3 (ipykernel)",
   "language": "python",
   "name": "python3"
  },
  "language_info": {
   "codemirror_mode": {
    "name": "ipython",
    "version": 3
   },
   "file_extension": ".py",
   "mimetype": "text/x-python",
   "name": "python",
   "nbconvert_exporter": "python",
   "pygments_lexer": "ipython3",
   "version": "3.9.13"
  }
 },
 "nbformat": 4,
 "nbformat_minor": 5
}
