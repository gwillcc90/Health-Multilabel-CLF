{
 "cells": [
  {
   "cell_type": "markdown",
   "id": "017b3dec",
   "metadata": {},
   "source": [
    "# Multilabel Classification on a Diabetes Dataset\n",
    "\n",
    "Goal statement: I use the diabetes_data.csv dataset from Kaggle.com [1] to perform multilabel classification by predicting whether the patient has diabetes, stroke, and high blood pressure using Keras's Functional API. This is a multilabel, binary classification problem."
   ]
  },
  {
   "cell_type": "code",
   "execution_count": 1,
   "id": "e0831b64",
   "metadata": {},
   "outputs": [],
   "source": [
    "# Libraries and imports\n",
    "import pandas as pd\n",
    "import tensorflow as tf\n",
    "from sklearn.model_selection import train_test_split\n",
    "from tensorflow import keras\n",
    "import numpy as np\n",
    "import matplotlib.pyplot as plt\n",
    "from sklearn.metrics import multilabel_confusion_matrix"
   ]
  },
  {
   "cell_type": "code",
   "execution_count": 2,
   "id": "6c75bb3e",
   "metadata": {},
   "outputs": [],
   "source": [
    "# model with unedited dataset\n",
    "raw_ANN = keras.models.load_model('multilabel_clf_unengineered.h5')\n",
    "# model with BMI categorized and One-Hot encoded\n",
    "# ANN_BMI_cats = keras.models.load_model('ANN_with_BMI_cats.h5')"
   ]
  },
  {
   "cell_type": "code",
   "execution_count": 30,
   "id": "affcce16",
   "metadata": {},
   "outputs": [
    {
     "data": {
      "text/html": [
       "<div>\n",
       "<style scoped>\n",
       "    .dataframe tbody tr th:only-of-type {\n",
       "        vertical-align: middle;\n",
       "    }\n",
       "\n",
       "    .dataframe tbody tr th {\n",
       "        vertical-align: top;\n",
       "    }\n",
       "\n",
       "    .dataframe thead th {\n",
       "        text-align: right;\n",
       "    }\n",
       "</style>\n",
       "<table border=\"1\" class=\"dataframe\">\n",
       "  <thead>\n",
       "    <tr style=\"text-align: right;\">\n",
       "      <th></th>\n",
       "      <th>Age</th>\n",
       "      <th>Sex</th>\n",
       "      <th>HighChol</th>\n",
       "      <th>CholCheck</th>\n",
       "      <th>BMI</th>\n",
       "      <th>Smoker</th>\n",
       "      <th>HeartDiseaseorAttack</th>\n",
       "      <th>PhysActivity</th>\n",
       "      <th>Fruits</th>\n",
       "      <th>Veggies</th>\n",
       "      <th>HvyAlcoholConsump</th>\n",
       "      <th>GenHlth</th>\n",
       "      <th>MentHlth</th>\n",
       "      <th>PhysHlth</th>\n",
       "      <th>DiffWalk</th>\n",
       "      <th>Stroke</th>\n",
       "      <th>HighBP</th>\n",
       "      <th>Diabetes</th>\n",
       "    </tr>\n",
       "  </thead>\n",
       "  <tbody>\n",
       "    <tr>\n",
       "      <th>0</th>\n",
       "      <td>4.0</td>\n",
       "      <td>1.0</td>\n",
       "      <td>0.0</td>\n",
       "      <td>1.0</td>\n",
       "      <td>26.0</td>\n",
       "      <td>0.0</td>\n",
       "      <td>0.0</td>\n",
       "      <td>1.0</td>\n",
       "      <td>0.0</td>\n",
       "      <td>1.0</td>\n",
       "      <td>0.0</td>\n",
       "      <td>3.0</td>\n",
       "      <td>5.0</td>\n",
       "      <td>30.0</td>\n",
       "      <td>0.0</td>\n",
       "      <td>0.0</td>\n",
       "      <td>1.0</td>\n",
       "      <td>0.0</td>\n",
       "    </tr>\n",
       "    <tr>\n",
       "      <th>1</th>\n",
       "      <td>12.0</td>\n",
       "      <td>1.0</td>\n",
       "      <td>1.0</td>\n",
       "      <td>1.0</td>\n",
       "      <td>26.0</td>\n",
       "      <td>1.0</td>\n",
       "      <td>0.0</td>\n",
       "      <td>0.0</td>\n",
       "      <td>1.0</td>\n",
       "      <td>0.0</td>\n",
       "      <td>0.0</td>\n",
       "      <td>3.0</td>\n",
       "      <td>0.0</td>\n",
       "      <td>0.0</td>\n",
       "      <td>0.0</td>\n",
       "      <td>1.0</td>\n",
       "      <td>1.0</td>\n",
       "      <td>0.0</td>\n",
       "    </tr>\n",
       "    <tr>\n",
       "      <th>2</th>\n",
       "      <td>13.0</td>\n",
       "      <td>1.0</td>\n",
       "      <td>0.0</td>\n",
       "      <td>1.0</td>\n",
       "      <td>26.0</td>\n",
       "      <td>0.0</td>\n",
       "      <td>0.0</td>\n",
       "      <td>1.0</td>\n",
       "      <td>1.0</td>\n",
       "      <td>1.0</td>\n",
       "      <td>0.0</td>\n",
       "      <td>1.0</td>\n",
       "      <td>0.0</td>\n",
       "      <td>10.0</td>\n",
       "      <td>0.0</td>\n",
       "      <td>0.0</td>\n",
       "      <td>0.0</td>\n",
       "      <td>0.0</td>\n",
       "    </tr>\n",
       "    <tr>\n",
       "      <th>3</th>\n",
       "      <td>11.0</td>\n",
       "      <td>1.0</td>\n",
       "      <td>1.0</td>\n",
       "      <td>1.0</td>\n",
       "      <td>28.0</td>\n",
       "      <td>1.0</td>\n",
       "      <td>0.0</td>\n",
       "      <td>1.0</td>\n",
       "      <td>1.0</td>\n",
       "      <td>1.0</td>\n",
       "      <td>0.0</td>\n",
       "      <td>3.0</td>\n",
       "      <td>0.0</td>\n",
       "      <td>3.0</td>\n",
       "      <td>0.0</td>\n",
       "      <td>0.0</td>\n",
       "      <td>1.0</td>\n",
       "      <td>0.0</td>\n",
       "    </tr>\n",
       "    <tr>\n",
       "      <th>4</th>\n",
       "      <td>8.0</td>\n",
       "      <td>0.0</td>\n",
       "      <td>0.0</td>\n",
       "      <td>1.0</td>\n",
       "      <td>29.0</td>\n",
       "      <td>1.0</td>\n",
       "      <td>0.0</td>\n",
       "      <td>1.0</td>\n",
       "      <td>1.0</td>\n",
       "      <td>1.0</td>\n",
       "      <td>0.0</td>\n",
       "      <td>2.0</td>\n",
       "      <td>0.0</td>\n",
       "      <td>0.0</td>\n",
       "      <td>0.0</td>\n",
       "      <td>0.0</td>\n",
       "      <td>0.0</td>\n",
       "      <td>0.0</td>\n",
       "    </tr>\n",
       "  </tbody>\n",
       "</table>\n",
       "</div>"
      ],
      "text/plain": [
       "    Age  Sex  HighChol  CholCheck   BMI  Smoker  HeartDiseaseorAttack  \\\n",
       "0   4.0  1.0       0.0        1.0  26.0     0.0                   0.0   \n",
       "1  12.0  1.0       1.0        1.0  26.0     1.0                   0.0   \n",
       "2  13.0  1.0       0.0        1.0  26.0     0.0                   0.0   \n",
       "3  11.0  1.0       1.0        1.0  28.0     1.0                   0.0   \n",
       "4   8.0  0.0       0.0        1.0  29.0     1.0                   0.0   \n",
       "\n",
       "   PhysActivity  Fruits  Veggies  HvyAlcoholConsump  GenHlth  MentHlth  \\\n",
       "0           1.0     0.0      1.0                0.0      3.0       5.0   \n",
       "1           0.0     1.0      0.0                0.0      3.0       0.0   \n",
       "2           1.0     1.0      1.0                0.0      1.0       0.0   \n",
       "3           1.0     1.0      1.0                0.0      3.0       0.0   \n",
       "4           1.0     1.0      1.0                0.0      2.0       0.0   \n",
       "\n",
       "   PhysHlth  DiffWalk  Stroke  HighBP  Diabetes  \n",
       "0      30.0       0.0     0.0     1.0       0.0  \n",
       "1       0.0       0.0     1.0     1.0       0.0  \n",
       "2      10.0       0.0     0.0     0.0       0.0  \n",
       "3       3.0       0.0     0.0     1.0       0.0  \n",
       "4       0.0       0.0     0.0     0.0       0.0  "
      ]
     },
     "execution_count": 30,
     "metadata": {},
     "output_type": "execute_result"
    }
   ],
   "source": [
    "# Read data\n",
    "data = pd.read_csv(r'C:\\Users\\linda\\OneDrive\\Desktop\\diabetes_data.csv')\n",
    "\n",
    "data.head()\n",
    "# data.shape"
   ]
  },
  {
   "cell_type": "markdown",
   "id": "610a04ad",
   "metadata": {},
   "source": [
    "I already created an Artificial Neural Network model that keeps the BMI as a continuous feature. It will be loaded for comparison against model with BMI as categories.\n",
    "\n",
    "Feature Engineering:\n",
    " - Cut the BMI feature into categories\n",
    "  - BMI was converted into categories based on the CDC article \"Defining Adult Overweight & Obesity\" [2].\n",
    " - Convert the features' categories into One-Hot encoded features\n",
    "  - The Age feature is already categorized as 1-13 (see metadata in [1]); it just needs One-Hot encoding.\n",
    " - Add to new dataset and rename columns"
   ]
  },
  {
   "cell_type": "code",
   "execution_count": 32,
   "id": "9c825866",
   "metadata": {},
   "outputs": [],
   "source": [
    "# Cut BMI feature into categories for One-Hot encoding\n",
    "BMI_cuts = pd.cut(x=data['BMI'], bins = [0,18.5,24.9,29.9,34.9,39.9,np.inf],\n",
    "             labels = list(range(6)))\n",
    "\n",
    "# One hot encoding with .get_dummies() function\n",
    "BMI_dummies = pd.get_dummies(BMI_cuts, drop_first=True)\n",
    "\n",
    "\n",
    "# Add the one-hot encoded features to the original dataset\n",
    "# with the original BMI feature dropped\n",
    "data = pd.concat([data.drop('BMI', axis = 1), BMI_dummies], axis=1)\n",
    "\n",
    "\n",
    "# Renaming BMI weight for clarity\n",
    "data.rename(columns = {0:'underW', 1:'healthyW', 2:'overW', 3:'obsC1',\n",
    "                      4:'obsC1', 5:'obsC2'}, inplace = True)\n",
    "\n",
    "# Create lists of target labels for usage later\n",
    "TARGET_LABELS = ['Stroke','HighBP','Diabetes']"
   ]
  },
  {
   "cell_type": "code",
   "execution_count": 6,
   "id": "d99a0e77",
   "metadata": {},
   "outputs": [],
   "source": [
    "# One-Hot Encode Age feature\n",
    "# AGE_dummies = pd.get_dummies(data['Age'], drop_first=True)\n",
    "\n",
    "# data = pd.concat([data.drop('Age', axis = 1), AGE_dummies], axis=1)"
   ]
  },
  {
   "cell_type": "code",
   "execution_count": 33,
   "id": "183f130c",
   "metadata": {},
   "outputs": [],
   "source": [
    "# Convert dataframe subsets to numpy arrays\n",
    "X = data.drop(['Stroke','HighBP','Diabetes'], axis = 1).to_numpy() # Predictors\n",
    "y = data[['Stroke','HighBP','Diabetes']].to_numpy()                # 3 targets, binary"
   ]
  },
  {
   "cell_type": "code",
   "execution_count": 34,
   "id": "befdab97",
   "metadata": {},
   "outputs": [],
   "source": [
    "# Split into training and testing sets\n",
    "# Sets will by further split into validation, next\n",
    "X_train, X_test, y_train, y_test = train_test_split(X, y, test_size=0.2, random_state=42)\n",
    "\n",
    "# Further split training set into validation set\n",
    "X_valid, X_train = X_train[:5000], X_train[5000:]\n",
    "y_valid, y_train = y_train[:5000], y_train[5000:]\n",
    "\n",
    "\n",
    "# print(X_valid.shape)\n",
    "# print(X_train.shape)\n",
    "# print(y_valid.shape)\n",
    "# print(y_train.shape)"
   ]
  },
  {
   "cell_type": "markdown",
   "id": "67f3badf",
   "metadata": {},
   "source": [
    "Because I'm creating and evaluating models, then engineering features, then repeating, the ANN hyperparameters will be stored in variables as the layer sizes will change accordingly to the number of features."
   ]
  },
  {
   "cell_type": "code",
   "execution_count": 49,
   "id": "e7a50c36",
   "metadata": {},
   "outputs": [],
   "source": [
    "# Number of input features; the number of features for any observation\n",
    "\n",
    "\n",
    "# Creating sequential model\n",
    "m = keras.models.Sequential([\n",
    " keras.layers.InputLayer(19),                       # One input node per feature, n\n",
    " keras.layers.Dense(19*19*19, activation=\"relu\"),   # n^3 nodes\n",
    " keras.layers.Dense(19*19, activation=\"relu\"),      # n^2 nodes\n",
    " keras.layers.Dense(3, activation=\"sigmoid\")        # one output node per label\n",
    "])"
   ]
  },
  {
   "cell_type": "code",
   "execution_count": 50,
   "id": "2398d2ac",
   "metadata": {},
   "outputs": [
    {
     "data": {
      "text/plain": [
       "(19,)"
      ]
     },
     "execution_count": 50,
     "metadata": {},
     "output_type": "execute_result"
    }
   ],
   "source": [
    "X_valid[0].shape"
   ]
  },
  {
   "cell_type": "code",
   "execution_count": 51,
   "id": "e7c1b4e7",
   "metadata": {},
   "outputs": [
    {
     "name": "stdout",
     "output_type": "stream",
     "text": [
      "Model: \"sequential_8\"\n",
      "_________________________________________________________________\n",
      "Layer (type)                 Output Shape              Param #   \n",
      "=================================================================\n",
      "dense_24 (Dense)             (None, 6859)              137180    \n",
      "_________________________________________________________________\n",
      "dense_25 (Dense)             (None, 361)               2476460   \n",
      "_________________________________________________________________\n",
      "dense_26 (Dense)             (None, 3)                 1086      \n",
      "=================================================================\n",
      "Total params: 2,614,726\n",
      "Trainable params: 2,614,726\n",
      "Non-trainable params: 0\n",
      "_________________________________________________________________\n"
     ]
    }
   ],
   "source": [
    "# Model summary to inspect number of connections\n",
    "m.summary()"
   ]
  },
  {
   "cell_type": "code",
   "execution_count": 52,
   "id": "08834c68",
   "metadata": {},
   "outputs": [],
   "source": [
    "m.compile(loss=\"binary_crossentropy\", # For binary classification\n",
    " optimizer=\"sgd\",                     # SGD\n",
    " metrics=[\"accuracy\"])                # Display accuracy"
   ]
  },
  {
   "cell_type": "code",
   "execution_count": 53,
   "id": "3a3fe8f6",
   "metadata": {},
   "outputs": [
    {
     "name": "stdout",
     "output_type": "stream",
     "text": [
      "Epoch 1/30\n",
      "1612/1612 [==============================] - 18s 11ms/step - loss: 0.4818 - accuracy: 0.4489 - val_loss: 1.3596 - val_accuracy: 0.4294\n",
      "Epoch 2/30\n",
      "1612/1612 [==============================] - 19s 11ms/step - loss: 0.4448 - accuracy: 0.4357 - val_loss: 0.5258 - val_accuracy: 0.3378\n",
      "Epoch 3/30\n",
      "1612/1612 [==============================] - 18s 11ms/step - loss: 0.4347 - accuracy: 0.4367 - val_loss: 0.4628 - val_accuracy: 0.4174\n",
      "Epoch 4/30\n",
      "1612/1612 [==============================] - 19s 12ms/step - loss: 0.4311 - accuracy: 0.4374 - val_loss: 0.5505 - val_accuracy: 0.3420\n",
      "Epoch 5/30\n",
      "1612/1612 [==============================] - 19s 12ms/step - loss: 0.4289 - accuracy: 0.4375 - val_loss: 0.5103 - val_accuracy: 0.4592\n",
      "Epoch 6/30\n",
      "1612/1612 [==============================] - 20s 12ms/step - loss: 0.4266 - accuracy: 0.4371 - val_loss: 0.4582 - val_accuracy: 0.4988\n",
      "Epoch 7/30\n",
      "1612/1612 [==============================] - 20s 12ms/step - loss: 0.4252 - accuracy: 0.4396 - val_loss: 0.4311 - val_accuracy: 0.4860\n",
      "Epoch 8/30\n",
      "1612/1612 [==============================] - 19s 12ms/step - loss: 0.4245 - accuracy: 0.4354 - val_loss: 0.5064 - val_accuracy: 0.3724\n",
      "Epoch 9/30\n",
      "1612/1612 [==============================] - 19s 12ms/step - loss: 0.4239 - accuracy: 0.4397 - val_loss: 0.5265 - val_accuracy: 0.3582\n",
      "Epoch 10/30\n",
      "1612/1612 [==============================] - 19s 12ms/step - loss: 0.4233 - accuracy: 0.4374 - val_loss: 0.4855 - val_accuracy: 0.3820\n",
      "Epoch 11/30\n",
      "1612/1612 [==============================] - 20s 12ms/step - loss: 0.4225 - accuracy: 0.4381 - val_loss: 0.4993 - val_accuracy: 0.3508\n",
      "Epoch 12/30\n",
      "1612/1612 [==============================] - 20s 13ms/step - loss: 0.4219 - accuracy: 0.4372 - val_loss: 0.5346 - val_accuracy: 0.4872\n",
      "Epoch 13/30\n",
      "1612/1612 [==============================] - 21s 13ms/step - loss: 0.4211 - accuracy: 0.4392 - val_loss: 0.4608 - val_accuracy: 0.3750\n",
      "Epoch 14/30\n",
      "1612/1612 [==============================] - 20s 12ms/step - loss: 0.4207 - accuracy: 0.4406 - val_loss: 0.4611 - val_accuracy: 0.5032\n",
      "Epoch 15/30\n",
      "1612/1612 [==============================] - 19s 12ms/step - loss: 0.4205 - accuracy: 0.4426 - val_loss: 0.4349 - val_accuracy: 0.3670\n",
      "Epoch 16/30\n",
      "1612/1612 [==============================] - 19s 12ms/step - loss: 0.4200 - accuracy: 0.4375 - val_loss: 0.4378 - val_accuracy: 0.4514\n",
      "Epoch 17/30\n",
      "1612/1612 [==============================] - 21s 13ms/step - loss: 0.4199 - accuracy: 0.4414 - val_loss: 0.4236 - val_accuracy: 0.3034\n",
      "Epoch 18/30\n",
      "1612/1612 [==============================] - 21s 13ms/step - loss: 0.4194 - accuracy: 0.4396 - val_loss: 0.4312 - val_accuracy: 0.3846\n",
      "Epoch 19/30\n",
      "1612/1612 [==============================] - 21s 13ms/step - loss: 0.4191 - accuracy: 0.4396 - val_loss: 0.5645 - val_accuracy: 0.4708\n",
      "Epoch 20/30\n",
      "1612/1612 [==============================] - 20s 13ms/step - loss: 0.4194 - accuracy: 0.4405 - val_loss: 0.4237 - val_accuracy: 0.4854\n",
      "Epoch 21/30\n",
      "1612/1612 [==============================] - 20s 12ms/step - loss: 0.4185 - accuracy: 0.4421 - val_loss: 0.4206 - val_accuracy: 0.4620\n",
      "Epoch 22/30\n",
      "1612/1612 [==============================] - 19s 12ms/step - loss: 0.4184 - accuracy: 0.4360 - val_loss: 0.4260 - val_accuracy: 0.4954\n",
      "Epoch 23/30\n",
      "1612/1612 [==============================] - 19s 12ms/step - loss: 0.4182 - accuracy: 0.4426 - val_loss: 0.4263 - val_accuracy: 0.3562\n",
      "Epoch 24/30\n",
      "1612/1612 [==============================] - 20s 13ms/step - loss: 0.4181 - accuracy: 0.4409 - val_loss: 0.4255 - val_accuracy: 0.3194\n",
      "Epoch 25/30\n",
      "1612/1612 [==============================] - 20s 12ms/step - loss: 0.4176 - accuracy: 0.4349 - val_loss: 0.4274 - val_accuracy: 0.4906\n",
      "Epoch 26/30\n",
      "1612/1612 [==============================] - 19s 12ms/step - loss: 0.4176 - accuracy: 0.4415 - val_loss: 0.4424 - val_accuracy: 0.4578\n",
      "Epoch 27/30\n",
      "1612/1612 [==============================] - 19s 12ms/step - loss: 0.4176 - accuracy: 0.4378 - val_loss: 0.4422 - val_accuracy: 0.3840\n",
      "Epoch 28/30\n",
      "1612/1612 [==============================] - 19s 12ms/step - loss: 0.4172 - accuracy: 0.4395 - val_loss: 0.4866 - val_accuracy: 0.2914\n",
      "Epoch 29/30\n",
      "1612/1612 [==============================] - 19s 12ms/step - loss: 0.4170 - accuracy: 0.4363 - val_loss: 0.4187 - val_accuracy: 0.4356\n",
      "Epoch 30/30\n",
      "1612/1612 [==============================] - 20s 13ms/step - loss: 0.4169 - accuracy: 0.4387 - val_loss: 0.4199 - val_accuracy: 0.4660\n"
     ]
    }
   ],
   "source": [
    "history = m.fit(X_train, y_train, epochs=30,\n",
    "                     validation_data=(X_valid, y_valid))"
   ]
  },
  {
   "cell_type": "code",
   "execution_count": 54,
   "id": "f7883bde",
   "metadata": {},
   "outputs": [
    {
     "data": {
      "image/png": "[encoded data removed]",
      "text/plain": [
       "<Figure size 800x500 with 1 Axes>"
      ]
     },
     "metadata": {},
     "output_type": "display_data"
    }
   ],
   "source": [
    "pd.DataFrame(history.history).plot(figsize=(8, 5))\n",
    "plt.grid(True)\n",
    "plt.gca().set_ylim(0, 1) # set the vertical range to [0-1]\n",
    "plt.show()"
   ]
  },
  {
   "cell_type": "markdown",
   "id": "b2a31065",
   "metadata": {},
   "source": [
    "We see that the loss and accuracy converge without reaching a good solution. We will convert the `Age` feature into categories after looking at predictions.\n",
    "\n",
    "Load the model with the unedited dataset."
   ]
  },
  {
   "cell_type": "code",
   "execution_count": 55,
   "id": "a96c76f6",
   "metadata": {
    "scrolled": true
   },
   "outputs": [],
   "source": [
    "# Predictions, outputs probabilities for current model\n",
    "predictions_matrix_probs = m.predict(X_valid)\n",
    "\n",
    "# Predictions, outputs probabilities for unengineered\n",
    "# X_valid[:,:15] takes only the first 15 features\n",
    "predictions_matrix_probs2 = raw_ANN.predict(X_valid[:,:15])"
   ]
  },
  {
   "cell_type": "code",
   "execution_count": 56,
   "id": "d8541a19",
   "metadata": {},
   "outputs": [
    {
     "name": "stdout",
     "output_type": "stream",
     "text": [
      "[[0.0336999  0.62301254 0.64846146]\n",
      " [0.35543337 0.8639597  0.8187064 ]]\n",
      "[[0.427373   0.4163969  0.2738595 ]\n",
      " [0.20985916 0.3225986  0.13661423]]\n"
     ]
    }
   ],
   "source": [
    "print(predictions_matrix_probs[:2])\n",
    "print(predictions_matrix_probs2[:2])"
   ]
  },
  {
   "cell_type": "code",
   "execution_count": 57,
   "id": "ad3bb333",
   "metadata": {},
   "outputs": [],
   "source": [
    "# LIST COMPREHENSION\n",
    "# to convert probabilities into binary decision\n",
    "# 1 if the vector index is >= .5, else put 0\n",
    "# For each vector in the prediction matrix\n",
    "predictions_matrix_bin = np.array([[1 if i >= .5 else 0 for i in vector] \\\n",
    "                          for vector in predictions_matrix_probs])\n",
    "\n",
    "predictions_matrix_bin2 = np.array([[1 if i >= .5 else 0 for i in vector] \\\n",
    "                          for vector in predictions_matrix_probs2])"
   ]
  },
  {
   "cell_type": "code",
   "execution_count": 17,
   "id": "e9831d41",
   "metadata": {},
   "outputs": [
    {
     "name": "stdout",
     "output_type": "stream",
     "text": [
      "CONFUSION MATRIX for Stroke:\n",
      "____________________________\n",
      "[[4701  299]\n",
      " [   0    0]]\n",
      "\n",
      "CONFUSION MATRIX for HighBP:\n",
      "____________________________\n",
      "[[1458  596]\n",
      " [ 784 2162]]\n",
      "\n",
      "CONFUSION MATRIX for Diabetes:\n",
      "____________________________\n",
      "[[1837  726]\n",
      " [ 651 1786]]\n",
      "\n"
     ]
    }
   ],
   "source": [
    "# Printing the confusion matrices, one for each label\n",
    "for i in range(len(TARGET_LABELS)):\n",
    "    print(f\"CONFUSION MATRIX for {TARGET_LABELS[i]}:\")\n",
    "    print(\"____________________________\")\n",
    "    print(multilabel_confusion_matrix(predictions_matrix_bin, y_valid)[i],end = '\\n'*2)"
   ]
  },
  {
   "cell_type": "code",
   "execution_count": 18,
   "id": "cdd612cc",
   "metadata": {},
   "outputs": [
    {
     "name": "stdout",
     "output_type": "stream",
     "text": [
      "CONFUSION MATRIX for Stroke:\n",
      "____________________________\n",
      "[[3370  142]\n",
      " [1331  157]]\n",
      "\n",
      "CONFUSION MATRIX for HighBP:\n",
      "____________________________\n",
      "[[1930 2067]\n",
      " [ 312  691]]\n",
      "\n",
      "CONFUSION MATRIX for Diabetes:\n",
      "____________________________\n",
      "[[2209 1930]\n",
      " [ 279  582]]\n",
      "\n"
     ]
    }
   ],
   "source": [
    "for i in range(len(TARGET_LABELS)):\n",
    "    print(f\"CONFUSION MATRIX for {TARGET_LABELS[i]}:\")\n",
    "    print(\"____________________________\")\n",
    "    print(multilabel_confusion_matrix(predictions_matrix_bin2, y_valid)[i],end = '\\n'*2)"
   ]
  },
  {
   "cell_type": "code",
   "execution_count": null,
   "id": "11b92e11",
   "metadata": {},
   "outputs": [],
   "source": [
    "m.save('ANN_with_BMI_cats.h5')"
   ]
  },
  {
   "cell_type": "markdown",
   "id": "4eec5feb",
   "metadata": {},
   "source": [
    "References:\n",
    "\n",
    "[1] https://www.kaggle.com/datasets/prosperchuks/health-dataset\n",
    "\n",
    "[2] https://www.cdc.gov/obesity/basics/adult-defining.html\n",
    "\n",
    "[3] https://apps.who.int/gho/data/node.searo-metadata.AGEGROUP?lang=en"
   ]
  },
  {
   "cell_type": "code",
   "execution_count": null,
   "id": "3505fd8a",
   "metadata": {},
   "outputs": [],
   "source": []
  }
 ],
 "metadata": {
  "kernelspec": {
   "display_name": "Python 3 (ipykernel)",
   "language": "python",
   "name": "python3"
  },
  "language_info": {
   "codemirror_mode": {
    "name": "ipython",
    "version": 3
   },
   "file_extension": ".py",
   "mimetype": "text/x-python",
   "name": "python",
   "nbconvert_exporter": "python",
   "pygments_lexer": "ipython3",
   "version": "3.9.13"
  }
 },
 "nbformat": 4,
 "nbformat_minor": 5
}
