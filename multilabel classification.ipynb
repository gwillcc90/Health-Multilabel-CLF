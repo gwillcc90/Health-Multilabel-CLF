{
 "cells": [
  {
   "cell_type": "markdown",
   "id": "017b3dec",
   "metadata": {},
   "source": [
    "# Multilabel Classification on a Diabetes Dataset\n",
    "\n",
    "Goal statement: I use the diabetes_data.csv dataset from Kaggle.com [1] to perform multilabel classification by predicting whether the patient has diabetes, stroke, and high blood pressure using Keras's Functional API. This is a multilabel, binary classification problem."
   ]
  },
  {
   "cell_type": "code",
   "execution_count": 1,
   "id": "e0831b64",
   "metadata": {},
   "outputs": [],
   "source": [
    "# Libraries and imports\n",
    "import pandas as pd\n",
    "import tensorflow as tf\n",
    "from sklearn.model_selection import train_test_split\n",
    "from tensorflow import keras\n",
    "import numpy as np\n",
    "import matplotlib.pyplot as plt\n",
    "from sklearn.metrics import multilabel_confusion_matrix"
   ]
  },
  {
   "cell_type": "code",
   "execution_count": 2,
   "id": "d8e2473d",
   "metadata": {},
   "outputs": [],
   "source": [
    "# model with unedited dataset\n",
    "raw_ANN = keras.models.load_model('multilabel_clf_unengineered.h5')\n",
    "# model with BMI categorized and One-Hot encoded\n",
    "ANN_BMI_cats = keras.models.load_model('ANN_with_BMI_cats.h5')"
   ]
  },
  {
   "cell_type": "code",
   "execution_count": 3,
   "id": "affcce16",
   "metadata": {},
   "outputs": [
    {
     "data": {
      "text/html": [
       "<div>\n",
       "<style scoped>\n",
       "    .dataframe tbody tr th:only-of-type {\n",
       "        vertical-align: middle;\n",
       "    }\n",
       "\n",
       "    .dataframe tbody tr th {\n",
       "        vertical-align: top;\n",
       "    }\n",
       "\n",
       "    .dataframe thead th {\n",
       "        text-align: right;\n",
       "    }\n",
       "</style>\n",
       "<table border=\"1\" class=\"dataframe\">\n",
       "  <thead>\n",
       "    <tr style=\"text-align: right;\">\n",
       "      <th></th>\n",
       "      <th>Age</th>\n",
       "      <th>Sex</th>\n",
       "      <th>HighChol</th>\n",
       "      <th>CholCheck</th>\n",
       "      <th>BMI</th>\n",
       "      <th>Smoker</th>\n",
       "      <th>HeartDiseaseorAttack</th>\n",
       "      <th>PhysActivity</th>\n",
       "      <th>Fruits</th>\n",
       "      <th>Veggies</th>\n",
       "      <th>HvyAlcoholConsump</th>\n",
       "      <th>GenHlth</th>\n",
       "      <th>MentHlth</th>\n",
       "      <th>PhysHlth</th>\n",
       "      <th>DiffWalk</th>\n",
       "      <th>Stroke</th>\n",
       "      <th>HighBP</th>\n",
       "      <th>Diabetes</th>\n",
       "    </tr>\n",
       "  </thead>\n",
       "  <tbody>\n",
       "    <tr>\n",
       "      <th>0</th>\n",
       "      <td>4.0</td>\n",
       "      <td>1.0</td>\n",
       "      <td>0.0</td>\n",
       "      <td>1.0</td>\n",
       "      <td>26.0</td>\n",
       "      <td>0.0</td>\n",
       "      <td>0.0</td>\n",
       "      <td>1.0</td>\n",
       "      <td>0.0</td>\n",
       "      <td>1.0</td>\n",
       "      <td>0.0</td>\n",
       "      <td>3.0</td>\n",
       "      <td>5.0</td>\n",
       "      <td>30.0</td>\n",
       "      <td>0.0</td>\n",
       "      <td>0.0</td>\n",
       "      <td>1.0</td>\n",
       "      <td>0.0</td>\n",
       "    </tr>\n",
       "    <tr>\n",
       "      <th>1</th>\n",
       "      <td>12.0</td>\n",
       "      <td>1.0</td>\n",
       "      <td>1.0</td>\n",
       "      <td>1.0</td>\n",
       "      <td>26.0</td>\n",
       "      <td>1.0</td>\n",
       "      <td>0.0</td>\n",
       "      <td>0.0</td>\n",
       "      <td>1.0</td>\n",
       "      <td>0.0</td>\n",
       "      <td>0.0</td>\n",
       "      <td>3.0</td>\n",
       "      <td>0.0</td>\n",
       "      <td>0.0</td>\n",
       "      <td>0.0</td>\n",
       "      <td>1.0</td>\n",
       "      <td>1.0</td>\n",
       "      <td>0.0</td>\n",
       "    </tr>\n",
       "    <tr>\n",
       "      <th>2</th>\n",
       "      <td>13.0</td>\n",
       "      <td>1.0</td>\n",
       "      <td>0.0</td>\n",
       "      <td>1.0</td>\n",
       "      <td>26.0</td>\n",
       "      <td>0.0</td>\n",
       "      <td>0.0</td>\n",
       "      <td>1.0</td>\n",
       "      <td>1.0</td>\n",
       "      <td>1.0</td>\n",
       "      <td>0.0</td>\n",
       "      <td>1.0</td>\n",
       "      <td>0.0</td>\n",
       "      <td>10.0</td>\n",
       "      <td>0.0</td>\n",
       "      <td>0.0</td>\n",
       "      <td>0.0</td>\n",
       "      <td>0.0</td>\n",
       "    </tr>\n",
       "    <tr>\n",
       "      <th>3</th>\n",
       "      <td>11.0</td>\n",
       "      <td>1.0</td>\n",
       "      <td>1.0</td>\n",
       "      <td>1.0</td>\n",
       "      <td>28.0</td>\n",
       "      <td>1.0</td>\n",
       "      <td>0.0</td>\n",
       "      <td>1.0</td>\n",
       "      <td>1.0</td>\n",
       "      <td>1.0</td>\n",
       "      <td>0.0</td>\n",
       "      <td>3.0</td>\n",
       "      <td>0.0</td>\n",
       "      <td>3.0</td>\n",
       "      <td>0.0</td>\n",
       "      <td>0.0</td>\n",
       "      <td>1.0</td>\n",
       "      <td>0.0</td>\n",
       "    </tr>\n",
       "    <tr>\n",
       "      <th>4</th>\n",
       "      <td>8.0</td>\n",
       "      <td>0.0</td>\n",
       "      <td>0.0</td>\n",
       "      <td>1.0</td>\n",
       "      <td>29.0</td>\n",
       "      <td>1.0</td>\n",
       "      <td>0.0</td>\n",
       "      <td>1.0</td>\n",
       "      <td>1.0</td>\n",
       "      <td>1.0</td>\n",
       "      <td>0.0</td>\n",
       "      <td>2.0</td>\n",
       "      <td>0.0</td>\n",
       "      <td>0.0</td>\n",
       "      <td>0.0</td>\n",
       "      <td>0.0</td>\n",
       "      <td>0.0</td>\n",
       "      <td>0.0</td>\n",
       "    </tr>\n",
       "  </tbody>\n",
       "</table>\n",
       "</div>"
      ],
      "text/plain": [
       "    Age  Sex  HighChol  CholCheck   BMI  Smoker  HeartDiseaseorAttack  \\\n",
       "0   4.0  1.0       0.0        1.0  26.0     0.0                   0.0   \n",
       "1  12.0  1.0       1.0        1.0  26.0     1.0                   0.0   \n",
       "2  13.0  1.0       0.0        1.0  26.0     0.0                   0.0   \n",
       "3  11.0  1.0       1.0        1.0  28.0     1.0                   0.0   \n",
       "4   8.0  0.0       0.0        1.0  29.0     1.0                   0.0   \n",
       "\n",
       "   PhysActivity  Fruits  Veggies  HvyAlcoholConsump  GenHlth  MentHlth  \\\n",
       "0           1.0     0.0      1.0                0.0      3.0       5.0   \n",
       "1           0.0     1.0      0.0                0.0      3.0       0.0   \n",
       "2           1.0     1.0      1.0                0.0      1.0       0.0   \n",
       "3           1.0     1.0      1.0                0.0      3.0       0.0   \n",
       "4           1.0     1.0      1.0                0.0      2.0       0.0   \n",
       "\n",
       "   PhysHlth  DiffWalk  Stroke  HighBP  Diabetes  \n",
       "0      30.0       0.0     0.0     1.0       0.0  \n",
       "1       0.0       0.0     1.0     1.0       0.0  \n",
       "2      10.0       0.0     0.0     0.0       0.0  \n",
       "3       3.0       0.0     0.0     1.0       0.0  \n",
       "4       0.0       0.0     0.0     0.0       0.0  "
      ]
     },
     "execution_count": 3,
     "metadata": {},
     "output_type": "execute_result"
    }
   ],
   "source": [
    "# Read data\n",
    "data = pd.read_csv(r'C:\\Users\\linda\\OneDrive\\Desktop\\diabetes_data.csv')\n",
    "\n",
    "data.head()\n",
    "# data.shape"
   ]
  },
  {
   "cell_type": "markdown",
   "id": "b6e8f134",
   "metadata": {},
   "source": [
    "I already created an Artificial Neural Network model that keeps the BMI as a continuous feature. It will be loaded for comparison against model with BMI as categories.\n",
    "\n",
    "Feature Engineering:\n",
    " - Cut the BMI feature into categories\n",
    "  - BMI was converted into categories based on the CDC article \"Defining Adult Overweight & Obesity\" [2].\n",
    " - Convert the features' categories into One-Hot encoded features\n",
    "  - The Age feature is already categorized as 1-13 (see metadata in [1]); it just needs One-Hot encoding.\n",
    " - Add to new dataset and rename columns"
   ]
  },
  {
   "cell_type": "code",
   "execution_count": 4,
   "id": "421496de",
   "metadata": {},
   "outputs": [],
   "source": [
    "# Cut BMI feature into categories for One-Hot encoding\n",
    "BMI_cuts = pd.cut(x=data['BMI'], bins = [0,18.5,24.9,29.9,34.9,39.9,np.inf],\n",
    "             labels = list(range(6)))\n",
    "\n",
    "# One hot encoding with .get_dummies() function\n",
    "BMI_dummies = pd.get_dummies(BMI_cuts, drop_first=True)\n",
    "\n",
    "\n",
    "# Add the one-hot encoded features to the original dataset\n",
    "# with the original BMI feature dropped\n",
    "data = pd.concat([data.drop('BMI', axis = 1), BMI_dummies], axis=1)\n",
    "\n",
    "\n",
    "# Renaming BMI weight for clarity\n",
    "data.rename(columns = {0:'underW', 1:'healthyW', 2:'overW', 3:'obsC1',\n",
    "                      4:'obsC1', 5:'obsC2'}, inplace = True)\n",
    "\n",
    "# Create lists of target labels for usage later\n",
    "TARGET_LABELS = ['Stroke','HighBP','Diabetes']"
   ]
  },
  {
   "cell_type": "code",
   "execution_count": 5,
   "id": "08a7f08f",
   "metadata": {},
   "outputs": [],
   "source": [
    "# One-Hot Encode Age feature\n",
    "# AGE_dummies = pd.get_dummies(data['Age'], drop_first=True)\n",
    "\n",
    "# data = pd.concat([data.drop('Age', axis = 1), AGE_dummies], axis=1)"
   ]
  },
  {
   "cell_type": "code",
   "execution_count": 6,
   "id": "183f130c",
   "metadata": {},
   "outputs": [],
   "source": [
    "# Convert dataframe subsets to numpy arrays\n",
    "X = data.drop(['Stroke','HighBP','Diabetes'], axis = 1).to_numpy() # Predictors\n",
    "y = data[['Stroke','HighBP','Diabetes']].to_numpy()                # 3 targets, binary"
   ]
  },
  {
   "cell_type": "code",
   "execution_count": 39,
   "id": "befdab97",
   "metadata": {},
   "outputs": [
    {
     "name": "stdout",
     "output_type": "stream",
     "text": [
      "(1414, 19)\n",
      "(55139, 19)\n",
      "(1414, 3)\n",
      "(55139, 3)\n"
     ]
    }
   ],
   "source": [
    "# Split into training and testing sets\n",
    "# Sets will by further split into validation, next\n",
    "X_train, X_test, y_train, y_test = train_test_split(X, y, test_size=0.2, random_state=42)\n",
    "\n",
    "# Further split training set into validation set\n",
    "X_train, X_valid, y_train, y_valid = train_test_split(X_train,\n",
    "                                                      y_train, test_size=0.025, random_state=42)\n",
    "\n",
    "\n",
    "print(X_valid.shape)\n",
    "print(X_train.shape)\n",
    "print(y_valid.shape)\n",
    "print(y_train.shape)"
   ]
  },
  {
   "cell_type": "code",
   "execution_count": 34,
   "id": "e7a50c36",
   "metadata": {},
   "outputs": [],
   "source": [
    "# Number of input features; the number of features for any observation\n",
    "\n",
    "\n",
    "# Creating sequential model\n",
    "m = keras.models.Sequential([\n",
    " keras.layers.InputLayer(19),                       # One input node per feature, n\n",
    " keras.layers.Dense(1000, activation=\"relu\"),   # n^3 nodes\n",
    " keras.layers.Dense(300, activation=\"relu\"),      # n^2 nodes\n",
    " keras.layers.Dense(3, activation=\"sigmoid\")        # one output node per label\n",
    "])"
   ]
  },
  {
   "cell_type": "code",
   "execution_count": 35,
   "id": "28c0f4f9",
   "metadata": {},
   "outputs": [
    {
     "data": {
      "text/plain": [
       "(19,)"
      ]
     },
     "execution_count": 35,
     "metadata": {},
     "output_type": "execute_result"
    }
   ],
   "source": [
    "X_valid[0].shape"
   ]
  },
  {
   "cell_type": "code",
   "execution_count": 36,
   "id": "e7c1b4e7",
   "metadata": {},
   "outputs": [
    {
     "name": "stdout",
     "output_type": "stream",
     "text": [
      "Model: \"sequential_1\"\n",
      "_________________________________________________________________\n",
      "Layer (type)                 Output Shape              Param #   \n",
      "=================================================================\n",
      "dense_3 (Dense)              (None, 1000)              20000     \n",
      "_________________________________________________________________\n",
      "dense_4 (Dense)              (None, 300)               300300    \n",
      "_________________________________________________________________\n",
      "dense_5 (Dense)              (None, 3)                 903       \n",
      "=================================================================\n",
      "Total params: 321,203\n",
      "Trainable params: 321,203\n",
      "Non-trainable params: 0\n",
      "_________________________________________________________________\n"
     ]
    }
   ],
   "source": [
    "# Model summary to inspect number of connections\n",
    "m.summary()"
   ]
  },
  {
   "cell_type": "code",
   "execution_count": 37,
   "id": "08834c68",
   "metadata": {},
   "outputs": [],
   "source": [
    "m.compile(loss=\"binary_crossentropy\", # For binary classification\n",
    " optimizer=\"sgd\",                     # SGD\n",
    " metrics=[\"accuracy\"])                # Display accuracy"
   ]
  },
  {
   "cell_type": "code",
   "execution_count": 38,
   "id": "3a3fe8f6",
   "metadata": {
    "scrolled": true
   },
   "outputs": [
    {
     "name": "stdout",
     "output_type": "stream",
     "text": [
      "Epoch 1/30\n",
      "1679/1679 [==============================] - 4s 2ms/step - loss: 0.4879 - accuracy: 0.4470 - val_loss: 0.4503 - val_accuracy: 0.4675\n",
      "Epoch 2/30\n",
      "1679/1679 [==============================] - 3s 2ms/step - loss: 0.4455 - accuracy: 0.4330 - val_loss: 0.4375 - val_accuracy: 0.4915\n",
      "Epoch 3/30\n",
      "1679/1679 [==============================] - 4s 2ms/step - loss: 0.4367 - accuracy: 0.4344 - val_loss: 0.4339 - val_accuracy: 0.3762\n",
      "Epoch 4/30\n",
      "1679/1679 [==============================] - 4s 2ms/step - loss: 0.4321 - accuracy: 0.4327 - val_loss: 0.4270 - val_accuracy: 0.4622\n",
      "Epoch 5/30\n",
      "1679/1679 [==============================] - 6s 3ms/step - loss: 0.4297 - accuracy: 0.4303 - val_loss: 0.4315 - val_accuracy: 0.3777\n",
      "Epoch 6/30\n",
      "1679/1679 [==============================] - 5s 3ms/step - loss: 0.4277 - accuracy: 0.4286 - val_loss: 0.4237 - val_accuracy: 0.4367\n",
      "Epoch 7/30\n",
      "1679/1679 [==============================] - 6s 3ms/step - loss: 0.4260 - accuracy: 0.4304 - val_loss: 0.4255 - val_accuracy: 0.4349\n",
      "Epoch 8/30\n",
      "1679/1679 [==============================] - 6s 3ms/step - loss: 0.4250 - accuracy: 0.4296 - val_loss: 0.4207 - val_accuracy: 0.4731\n",
      "Epoch 9/30\n",
      "1679/1679 [==============================] - 6s 4ms/step - loss: 0.4244 - accuracy: 0.4319 - val_loss: 0.4198 - val_accuracy: 0.4622\n",
      "Epoch 10/30\n",
      "1679/1679 [==============================] - 5s 3ms/step - loss: 0.4234 - accuracy: 0.4315 - val_loss: 0.4220 - val_accuracy: 0.4735\n",
      "Epoch 11/30\n",
      "1679/1679 [==============================] - 5s 3ms/step - loss: 0.4228 - accuracy: 0.4338 - val_loss: 0.4181 - val_accuracy: 0.4777\n",
      "Epoch 12/30\n",
      "1679/1679 [==============================] - 5s 3ms/step - loss: 0.4218 - accuracy: 0.4316 - val_loss: 0.4297 - val_accuracy: 0.4261\n",
      "Epoch 13/30\n",
      "1679/1679 [==============================] - 5s 3ms/step - loss: 0.4217 - accuracy: 0.4339 - val_loss: 0.4169 - val_accuracy: 0.4130\n",
      "Epoch 14/30\n",
      "1679/1679 [==============================] - 5s 3ms/step - loss: 0.4212 - accuracy: 0.4306 - val_loss: 0.4181 - val_accuracy: 0.4859\n",
      "Epoch 15/30\n",
      "1679/1679 [==============================] - 5s 3ms/step - loss: 0.4208 - accuracy: 0.4353 - val_loss: 0.4206 - val_accuracy: 0.3540\n",
      "Epoch 16/30\n",
      "1679/1679 [==============================] - 6s 3ms/step - loss: 0.4201 - accuracy: 0.4337 - val_loss: 0.4184 - val_accuracy: 0.4494\n",
      "Epoch 17/30\n",
      "1679/1679 [==============================] - 6s 4ms/step - loss: 0.4198 - accuracy: 0.4299 - val_loss: 0.4188 - val_accuracy: 0.4968\n",
      "Epoch 18/30\n",
      "1679/1679 [==============================] - 6s 4ms/step - loss: 0.4196 - accuracy: 0.4297 - val_loss: 0.4152 - val_accuracy: 0.4505\n",
      "Epoch 19/30\n",
      "1679/1679 [==============================] - 5s 3ms/step - loss: 0.4193 - accuracy: 0.4333 - val_loss: 0.4181 - val_accuracy: 0.4042\n",
      "Epoch 20/30\n",
      "1679/1679 [==============================] - 5s 3ms/step - loss: 0.4191 - accuracy: 0.4293 - val_loss: 0.4153 - val_accuracy: 0.4749\n",
      "Epoch 21/30\n",
      "1679/1679 [==============================] - 5s 3ms/step - loss: 0.4188 - accuracy: 0.4315 - val_loss: 0.4151 - val_accuracy: 0.4346\n",
      "Epoch 22/30\n",
      "1679/1679 [==============================] - 5s 3ms/step - loss: 0.4185 - accuracy: 0.4337 - val_loss: 0.4149 - val_accuracy: 0.3900\n",
      "Epoch 23/30\n",
      "1679/1679 [==============================] - 5s 3ms/step - loss: 0.4182 - accuracy: 0.4289 - val_loss: 0.4196 - val_accuracy: 0.4268\n",
      "Epoch 24/30\n",
      "1679/1679 [==============================] - 5s 3ms/step - loss: 0.4184 - accuracy: 0.4318 - val_loss: 0.4164 - val_accuracy: 0.4533\n",
      "Epoch 25/30\n",
      "1679/1679 [==============================] - 5s 3ms/step - loss: 0.4180 - accuracy: 0.4305 - val_loss: 0.4155 - val_accuracy: 0.4279\n",
      "Epoch 26/30\n",
      "1679/1679 [==============================] - 5s 3ms/step - loss: 0.4178 - accuracy: 0.4335 - val_loss: 0.4168 - val_accuracy: 0.4257\n",
      "Epoch 27/30\n",
      "1679/1679 [==============================] - 5s 3ms/step - loss: 0.4177 - accuracy: 0.4296 - val_loss: 0.4148 - val_accuracy: 0.4554\n",
      "Epoch 28/30\n",
      "1679/1679 [==============================] - 5s 3ms/step - loss: 0.4175 - accuracy: 0.4328 - val_loss: 0.4190 - val_accuracy: 0.4611\n",
      "Epoch 29/30\n",
      "1679/1679 [==============================] - 5s 3ms/step - loss: 0.4172 - accuracy: 0.4343 - val_loss: 0.4149 - val_accuracy: 0.3264\n",
      "Epoch 30/30\n",
      "1679/1679 [==============================] - 5s 3ms/step - loss: 0.4170 - accuracy: 0.4293 - val_loss: 0.4142 - val_accuracy: 0.4767\n"
     ]
    }
   ],
   "source": [
    "history = m.fit(X_train, y_train, epochs=30,\n",
    "                     validation_data=(X_valid, y_valid), batch_size = 32)"
   ]
  },
  {
   "cell_type": "code",
   "execution_count": 40,
   "id": "f7883bde",
   "metadata": {},
   "outputs": [
    {
     "data": {
      "image/png": "[encoded data removed]",
      "text/plain": [
       "<Figure size 800x500 with 1 Axes>"
      ]
     },
     "metadata": {},
     "output_type": "display_data"
    }
   ],
   "source": [
    "pd.DataFrame(history.history).plot(figsize=(8, 5))\n",
    "plt.grid(True)\n",
    "plt.gca().set_ylim(0, 1) # set the vertical range to [0-1]\n",
    "plt.show()\n"
   ]
  },
  {
   "cell_type": "markdown",
   "id": "b2a31065",
   "metadata": {},
   "source": [
    "The first model only used the raw dataset and the validation accuracy had jumps from 10% to 40% and vice versa, frequently, and never converged to a good solution\n",
    "\n",
    "The model with BMI categorized by the six classes designated by the CDC has its validation accuracy jump much less, but still performs poorly.\n",
    "\n",
    "Unfortunately, using n^n power of layers for the 3rd model that has 30 features causes over twenty-five million connections. Using nodes 1000 and 300 produces similar results to the previous model that only has BMI One-Hot encoded."
   ]
  },
  {
   "cell_type": "code",
   "execution_count": 41,
   "id": "a96c76f6",
   "metadata": {
    "scrolled": true
   },
   "outputs": [],
   "source": [
    "# Predictions, outputs probabilities for current model\n",
    "predictions_matrix_probs = m.predict(X_valid)\n",
    "\n",
    "# Predictions, outputs probabilities for unengineered\n",
    "# X_valid[:,:19] takes only the first 19 features\n",
    "predictions_matrix_probs2 = ANN_BMI_cats.predict(X_valid[:,:19])\n",
    "\n",
    "# Predictions, outputs probabilities for unengineered\n",
    "# X_valid[:,:15] takes only the first 15 features\n",
    "predictions_matrix_probs3 = raw_ANN.predict(X_valid[:,:15])"
   ]
  },
  {
   "cell_type": "code",
   "execution_count": 42,
   "id": "0de9c694",
   "metadata": {
    "scrolled": true
   },
   "outputs": [
    {
     "name": "stdout",
     "output_type": "stream",
     "text": [
      "[[0.0049921  0.07649422 0.04252094]\n",
      " [0.07542565 0.8159713  0.7127995 ]]\n",
      "[[0.00378126 0.0515781  0.03126636]\n",
      " [0.02534196 0.5700674  0.49383348]]\n",
      "[[0.49844697 0.5286261  0.5100912 ]\n",
      " [0.37206703 0.6101807  0.4463251 ]]\n"
     ]
    }
   ],
   "source": [
    "print(predictions_matrix_probs[:2])\n",
    "print(predictions_matrix_probs2[:2])\n",
    "print(predictions_matrix_probs3[:2])"
   ]
  },
  {
   "cell_type": "code",
   "execution_count": 43,
   "id": "ad3bb333",
   "metadata": {},
   "outputs": [],
   "source": [
    "# LIST COMPREHENSION\n",
    "# to convert probabilities into binary decision\n",
    "# 1 if the vector index is >= .5, else put 0\n",
    "# For each vector in the prediction matrix\n",
    "predictions_matrix_bin = np.array([[1 if i >= .5 else 0 for i in vector] \\\n",
    "                          for vector in predictions_matrix_probs])\n",
    "\n",
    "predictions_matrix_bin2 = np.array([[1 if i >= .5 else 0 for i in vector] \\\n",
    "                          for vector in predictions_matrix_probs2])\n",
    "\n",
    "predictions_matrix_bin3 = np.array([[1 if i >= .5 else 0 for i in vector] \\\n",
    "                          for vector in predictions_matrix_probs3])"
   ]
  },
  {
   "cell_type": "code",
   "execution_count": 44,
   "id": "ae415ac7",
   "metadata": {},
   "outputs": [],
   "source": [
    "def print_multilabel_matrix(matrix):\n",
    "    for i in range(len(TARGET_LABELS)):\n",
    "        print(f\"CONFUSION MATRIX for {TARGET_LABELS[i]}:\")\n",
    "        print(\"____________________________\")\n",
    "        print(matrix[i],end = '\\n'*2)"
   ]
  },
  {
   "cell_type": "code",
   "execution_count": 45,
   "id": "0a2d5f1c",
   "metadata": {},
   "outputs": [
    {
     "name": "stdout",
     "output_type": "stream",
     "text": [
      "CONFUSION MATRIX for Stroke:\n",
      "____________________________\n",
      "[[1337   77]\n",
      " [   0    0]]\n",
      "\n",
      "CONFUSION MATRIX for HighBP:\n",
      "____________________________\n",
      "[[413 131]\n",
      " [219 651]]\n",
      "\n",
      "CONFUSION MATRIX for Diabetes:\n",
      "____________________________\n",
      "[[512 189]\n",
      " [202 511]]\n",
      "\n"
     ]
    }
   ],
   "source": [
    "print_multilabel_matrix(multilabel_confusion_matrix(predictions_matrix_bin, y_valid))"
   ]
  },
  {
   "cell_type": "code",
   "execution_count": 19,
   "id": "7ea50319",
   "metadata": {
    "collapsed": true
   },
   "outputs": [
    {
     "data": {
      "text/plain": [
       "array([[0., 0., 0.],\n",
       "       [0., 1., 1.],\n",
       "       [0., 0., 0.],\n",
       "       [0., 1., 1.],\n",
       "       [0., 0., 1.],\n",
       "       [0., 1., 1.],\n",
       "       [0., 0., 0.],\n",
       "       [0., 0., 1.],\n",
       "       [0., 1., 0.],\n",
       "       [0., 1., 0.],\n",
       "       [0., 0., 0.],\n",
       "       [0., 0., 0.],\n",
       "       [0., 0., 1.],\n",
       "       [0., 0., 0.],\n",
       "       [0., 1., 1.],\n",
       "       [0., 0., 0.],\n",
       "       [0., 1., 1.],\n",
       "       [0., 1., 1.],\n",
       "       [0., 1., 0.],\n",
       "       [1., 0., 0.],\n",
       "       [0., 1., 0.],\n",
       "       [0., 1., 0.],\n",
       "       [0., 0., 0.],\n",
       "       [0., 1., 0.],\n",
       "       [0., 0., 1.],\n",
       "       [0., 0., 1.],\n",
       "       [0., 0., 1.],\n",
       "       [0., 0., 1.],\n",
       "       [0., 0., 0.],\n",
       "       [0., 1., 0.],\n",
       "       [0., 0., 0.],\n",
       "       [0., 0., 0.],\n",
       "       [0., 0., 1.],\n",
       "       [0., 1., 1.],\n",
       "       [0., 0., 0.],\n",
       "       [0., 1., 1.],\n",
       "       [0., 1., 0.],\n",
       "       [0., 0., 1.],\n",
       "       [0., 0., 0.],\n",
       "       [0., 0., 0.],\n",
       "       [0., 1., 0.],\n",
       "       [0., 0., 0.],\n",
       "       [0., 0., 0.],\n",
       "       [0., 0., 1.],\n",
       "       [0., 1., 1.],\n",
       "       [0., 0., 1.],\n",
       "       [0., 0., 0.],\n",
       "       [0., 1., 1.],\n",
       "       [0., 1., 1.],\n",
       "       [0., 0., 0.],\n",
       "       [0., 0., 0.],\n",
       "       [0., 0., 1.],\n",
       "       [0., 1., 1.],\n",
       "       [1., 1., 1.],\n",
       "       [0., 1., 0.],\n",
       "       [0., 1., 1.],\n",
       "       [0., 0., 0.],\n",
       "       [0., 0., 0.],\n",
       "       [0., 0., 1.],\n",
       "       [0., 0., 0.],\n",
       "       [0., 1., 0.],\n",
       "       [0., 0., 1.],\n",
       "       [0., 1., 0.],\n",
       "       [0., 1., 1.],\n",
       "       [0., 0., 0.],\n",
       "       [0., 1., 1.],\n",
       "       [0., 1., 1.],\n",
       "       [0., 0., 0.],\n",
       "       [0., 1., 1.],\n",
       "       [0., 0., 0.],\n",
       "       [0., 0., 1.],\n",
       "       [0., 1., 1.],\n",
       "       [0., 1., 1.],\n",
       "       [0., 1., 1.],\n",
       "       [0., 1., 1.],\n",
       "       [0., 1., 0.],\n",
       "       [0., 0., 0.],\n",
       "       [0., 1., 1.],\n",
       "       [1., 1., 0.],\n",
       "       [0., 0., 0.],\n",
       "       [0., 1., 1.],\n",
       "       [0., 1., 1.],\n",
       "       [0., 0., 0.],\n",
       "       [1., 1., 1.],\n",
       "       [0., 0., 1.],\n",
       "       [0., 0., 0.],\n",
       "       [0., 0., 0.],\n",
       "       [1., 1., 1.],\n",
       "       [0., 1., 1.],\n",
       "       [0., 0., 0.],\n",
       "       [0., 0., 0.],\n",
       "       [0., 1., 0.],\n",
       "       [0., 1., 0.],\n",
       "       [0., 0., 0.],\n",
       "       [0., 1., 1.],\n",
       "       [0., 1., 1.],\n",
       "       [0., 0., 1.],\n",
       "       [0., 1., 0.],\n",
       "       [0., 1., 1.],\n",
       "       [0., 0., 0.],\n",
       "       [0., 1., 1.],\n",
       "       [0., 0., 0.],\n",
       "       [1., 1., 1.],\n",
       "       [0., 0., 1.],\n",
       "       [1., 1., 1.],\n",
       "       [0., 0., 0.],\n",
       "       [0., 1., 1.],\n",
       "       [0., 1., 0.],\n",
       "       [0., 0., 1.],\n",
       "       [0., 1., 1.],\n",
       "       [0., 0., 0.],\n",
       "       [0., 1., 1.],\n",
       "       [0., 1., 1.],\n",
       "       [0., 1., 0.],\n",
       "       [0., 0., 0.],\n",
       "       [0., 1., 1.],\n",
       "       [0., 0., 0.],\n",
       "       [0., 1., 0.],\n",
       "       [0., 0., 0.],\n",
       "       [0., 0., 0.],\n",
       "       [0., 1., 1.],\n",
       "       [0., 1., 0.],\n",
       "       [0., 0., 0.],\n",
       "       [0., 1., 1.],\n",
       "       [0., 1., 1.],\n",
       "       [0., 0., 0.],\n",
       "       [0., 1., 1.],\n",
       "       [0., 0., 0.],\n",
       "       [0., 1., 0.],\n",
       "       [0., 0., 0.],\n",
       "       [1., 0., 1.],\n",
       "       [1., 1., 1.],\n",
       "       [0., 0., 1.],\n",
       "       [0., 1., 1.],\n",
       "       [0., 1., 1.],\n",
       "       [0., 1., 1.],\n",
       "       [0., 0., 0.],\n",
       "       [1., 1., 1.],\n",
       "       [1., 1., 1.],\n",
       "       [0., 0., 0.],\n",
       "       [0., 0., 0.],\n",
       "       [0., 0., 0.],\n",
       "       [0., 0., 0.],\n",
       "       [0., 0., 0.],\n",
       "       [0., 1., 1.],\n",
       "       [0., 0., 1.],\n",
       "       [0., 0., 1.],\n",
       "       [0., 1., 1.],\n",
       "       [0., 0., 0.],\n",
       "       [0., 0., 0.],\n",
       "       [0., 1., 0.],\n",
       "       [0., 0., 1.],\n",
       "       [0., 0., 0.],\n",
       "       [0., 0., 0.],\n",
       "       [0., 0., 0.],\n",
       "       [0., 1., 0.],\n",
       "       [0., 1., 0.],\n",
       "       [0., 1., 1.],\n",
       "       [1., 1., 0.],\n",
       "       [0., 1., 1.],\n",
       "       [0., 0., 0.],\n",
       "       [0., 0., 0.],\n",
       "       [0., 1., 1.],\n",
       "       [0., 0., 0.],\n",
       "       [0., 1., 0.],\n",
       "       [0., 1., 0.],\n",
       "       [0., 1., 1.],\n",
       "       [0., 1., 0.],\n",
       "       [0., 0., 1.],\n",
       "       [0., 0., 0.],\n",
       "       [0., 0., 0.],\n",
       "       [0., 1., 0.],\n",
       "       [0., 1., 0.],\n",
       "       [0., 0., 0.],\n",
       "       [0., 0., 1.],\n",
       "       [0., 0., 1.],\n",
       "       [0., 0., 1.],\n",
       "       [0., 0., 0.],\n",
       "       [0., 0., 0.],\n",
       "       [0., 1., 1.],\n",
       "       [0., 0., 0.],\n",
       "       [0., 0., 0.],\n",
       "       [0., 0., 0.],\n",
       "       [0., 0., 1.],\n",
       "       [0., 0., 0.],\n",
       "       [0., 0., 0.],\n",
       "       [0., 1., 1.],\n",
       "       [0., 1., 1.],\n",
       "       [0., 0., 1.],\n",
       "       [0., 0., 1.],\n",
       "       [0., 0., 0.],\n",
       "       [0., 1., 0.],\n",
       "       [0., 0., 0.],\n",
       "       [0., 1., 1.],\n",
       "       [0., 0., 1.],\n",
       "       [0., 0., 0.],\n",
       "       [0., 0., 1.],\n",
       "       [0., 1., 1.],\n",
       "       [0., 1., 0.],\n",
       "       [0., 0., 1.]])"
      ]
     },
     "execution_count": 19,
     "metadata": {},
     "output_type": "execute_result"
    }
   ],
   "source": [
    "y_valid[:200]"
   ]
  },
  {
   "cell_type": "code",
   "execution_count": 46,
   "id": "b68a2d79",
   "metadata": {},
   "outputs": [
    {
     "name": "stdout",
     "output_type": "stream",
     "text": [
      "CONFUSION MATRIX for Stroke:\n",
      "____________________________\n",
      "[[1337   77]\n",
      " [   0    0]]\n",
      "\n",
      "CONFUSION MATRIX for HighBP:\n",
      "____________________________\n",
      "[[501 296]\n",
      " [131 486]]\n",
      "\n",
      "CONFUSION MATRIX for Diabetes:\n",
      "____________________________\n",
      "[[614 354]\n",
      " [100 346]]\n",
      "\n"
     ]
    }
   ],
   "source": [
    "print_multilabel_matrix(multilabel_confusion_matrix(predictions_matrix_bin2, y_valid))"
   ]
  },
  {
   "cell_type": "code",
   "execution_count": 48,
   "id": "92c93ada",
   "metadata": {},
   "outputs": [
    {
     "name": "stdout",
     "output_type": "stream",
     "text": [
      "CONFUSION MATRIX for Stroke:\n",
      "____________________________\n",
      "[[1181   61]\n",
      " [ 156   16]]\n",
      "\n",
      "CONFUSION MATRIX for HighBP:\n",
      "____________________________\n",
      "[[514 594]\n",
      " [118 188]]\n",
      "\n",
      "CONFUSION MATRIX for Diabetes:\n",
      "____________________________\n",
      "[[626 576]\n",
      " [ 88 124]]\n",
      "\n"
     ]
    }
   ],
   "source": [
    "print_multilabel_matrix(multilabel_confusion_matrix(predictions_matrix_bin3, y_valid))"
   ]
  },
  {
   "cell_type": "markdown",
   "id": "37a7d53f",
   "metadata": {},
   "source": [
    "References:\n",
    "\n",
    "[1] https://www.kaggle.com/datasets/prosperchuks/health-dataset\n",
    "\n",
    "[2] https://www.cdc.gov/obesity/basics/adult-defining.html\n",
    "\n",
    "[3] https://apps.who.int/gho/data/node.searo-metadata.AGEGROUP?lang=en"
   ]
  },
  {
   "cell_type": "code",
   "execution_count": 24,
   "id": "0b337502",
   "metadata": {},
   "outputs": [
    {
     "data": {
      "text/plain": [
       "array([[0., 1., 0.],\n",
       "       [0., 0., 0.],\n",
       "       [0., 1., 0.],\n",
       "       [0., 1., 0.],\n",
       "       [0., 1., 0.],\n",
       "       [0., 1., 0.],\n",
       "       [0., 1., 1.],\n",
       "       [0., 0., 1.],\n",
       "       [0., 1., 1.],\n",
       "       [0., 1., 1.],\n",
       "       [1., 1., 1.],\n",
       "       [0., 1., 0.],\n",
       "       [0., 1., 1.],\n",
       "       [0., 0., 1.],\n",
       "       [0., 0., 0.],\n",
       "       [0., 0., 0.],\n",
       "       [0., 1., 1.],\n",
       "       [0., 0., 0.],\n",
       "       [0., 1., 1.],\n",
       "       [0., 0., 1.],\n",
       "       [0., 0., 0.],\n",
       "       [0., 1., 0.],\n",
       "       [0., 1., 1.],\n",
       "       [0., 0., 1.],\n",
       "       [0., 1., 1.],\n",
       "       [0., 0., 0.],\n",
       "       [0., 1., 1.],\n",
       "       [0., 0., 0.],\n",
       "       [0., 1., 1.],\n",
       "       [0., 0., 0.]])"
      ]
     },
     "execution_count": 24,
     "metadata": {},
     "output_type": "execute_result"
    }
   ],
   "source": [
    "y_train[:30]"
   ]
  },
  {
   "cell_type": "code",
   "execution_count": null,
   "id": "ed1a80a9",
   "metadata": {},
   "outputs": [],
   "source": []
  }
 ],
 "metadata": {
  "kernelspec": {
   "display_name": "Python 3 (ipykernel)",
   "language": "python",
   "name": "python3"
  },
  "language_info": {
   "codemirror_mode": {
    "name": "ipython",
    "version": 3
   },
   "file_extension": ".py",
   "mimetype": "text/x-python",
   "name": "python",
   "nbconvert_exporter": "python",
   "pygments_lexer": "ipython3",
   "version": "3.9.13"
  }
 },
 "nbformat": 4,
 "nbformat_minor": 5
}
